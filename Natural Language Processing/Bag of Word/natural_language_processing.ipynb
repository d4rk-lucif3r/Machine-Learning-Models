{
  "nbformat": 4,
  "nbformat_minor": 0,
  "metadata": {
    "colab": {
      "name": "natural_language_processing.ipynb",
      "provenance": [],
      "collapsed_sections": [],
      "toc_visible": true
    },
    "kernelspec": {
      "name": "python394jvsc74a57bd02951d919548ae18de2df5ded62b9a6d18db65d3b5a4ffaab87b83029c7c31e33",
      "display_name": "Python 3.9.4 64-bit"
    }
  },
  "cells": [
    {
      "cell_type": "markdown",
      "metadata": {
        "id": "VwK5-9FIB-lu",
        "colab_type": "text"
      },
      "source": [
        "# Natural Language Processing"
      ]
    },
    {
      "cell_type": "markdown",
      "metadata": {
        "id": "X1kiO9kACE6s",
        "colab_type": "text"
      },
      "source": [
        "## Importing the libraries"
      ]
    },
    {
      "cell_type": "code",
      "metadata": {
        "id": "7QG7sxmoCIvN",
        "colab_type": "code",
        "colab": {}
      },
      "source": [
        "import numpy as np\n",
        "import matplotlib.pyplot as plt\n",
        "import pandas as pd"
      ],
      "execution_count": 1,
      "outputs": []
    },
    {
      "cell_type": "markdown",
      "metadata": {
        "id": "wTfaCIzdCLPA",
        "colab_type": "text"
      },
      "source": [
        "## Importing the dataset"
      ]
    },
    {
      "cell_type": "code",
      "metadata": {
        "id": "UCK6vQ5QCQJe",
        "colab_type": "code",
        "colab": {}
      },
      "source": [
        "dataset = pd.read_csv('Restaurant_Reviews.tsv', delimiter = '\\t', quoting = 3)"
      ],
      "execution_count": 2,
      "outputs": []
    },
    {
      "cell_type": "markdown",
      "metadata": {
        "id": "Qekztq71CixT",
        "colab_type": "text"
      },
      "source": [
        "## Cleaning the texts"
      ]
    },
    {
      "cell_type": "code",
      "execution_count": 3,
      "metadata": {},
      "outputs": [
        {
          "output_type": "stream",
          "name": "stderr",
          "text": [
            "[nltk_data] Downloading package stopwords to\n[nltk_data]     C:\\Users\\arshc\\AppData\\Roaming\\nltk_data...\n[nltk_data]   Package stopwords is already up-to-date!\n"
          ]
        }
      ],
      "source": [
        "import re\n",
        "import nltk\n",
        "nltk.download('stopwords')\n",
        "from nltk.corpus import stopwords\n",
        "from nltk.stem.porter import PorterStemmer #used fr stemming the word\n",
        "corpus = []\n",
        "for i in range(0, dataset.shape[0]):\n",
        "    review = re.sub('[^a-zA-Z]', ' ', dataset['Review'][i])  \n",
        "    review = review.split()\n",
        "    ps = PorterStemmer()\n",
        "    all_stopwords = stopwords.words('english')\n",
        "    all_stopwords.remove('not')\n",
        "    review = [ps.stem(word) for word in review if not word in set(all_stopwords)]\n",
        "    review = ' '.join(review)\n",
        "    corpus.append(review)\n"
      ]
    },
    {
      "cell_type": "code",
      "execution_count": 4,
      "metadata": {
        "tags": []
      },
      "outputs": [
        {
          "output_type": "stream",
          "name": "stdout",
          "text": [
            "['wow love place', 'crust not good', 'not tasti textur nasti', 'stop late may bank holiday rick steve recommend love', 'the select menu great price', 'now i get angri i want damn pho', 'honeslti tast that fresh', 'the potato like rubber could tell made ahead time kept warmer', 'the fri great', 'a great touch', 'servic prompt', 'would not go back', 'the cashier care ever i say still end wayyy overpr', 'i tri cape cod ravoli chicken cranberri mmmm', 'i disgust i pretti sure human hair', 'i shock sign indic cash', 'highli recommend', 'waitress littl slow servic', 'thi place not worth time let alon vega', 'not like', 'the burritto blah', 'the food amaz', 'servic also cute', 'i could care less the interior beauti', 'so perform', 'that right red velvet cake ohhh stuff good', 'they never brought salad ask', 'thi hole wall great mexican street taco friendli staff', 'took hour get food tabl restaur food luke warm our sever run around like total overwhelm', 'the worst salmon sashimi', 'also combo like burger fri beer decent deal', 'thi like final blow', 'i found place accid i could not happier', 'seem like good quick place grab bite familiar pub food favor look elsewher', 'overal i like place lot', 'the redeem qualiti restaur inexpens', 'ampl portion good price', 'poor servic waiter made feel like i stupid everi time came tabl', 'my first visit hiro delight', 'servic suck', 'the shrimp tender moist', 'there not deal good enough would drag establish', 'hard judg whether side good gross melt styrofoam want eat fear get sick', 'on posit note server attent provid great servic', 'frozen puck disgust worst peopl behind regist', 'the thing i like prime rib dessert section', 'it bad food damn gener', 'the burger good beef cook right', 'if want sandwich go firehous', 'my side greek salad greek dress tasti pita hummu refresh', 'we order duck rare pink tender insid nice char outsid', 'he came run us realiz husband left sunglass tabl', 'their chow mein good', 'they horribl attitud toward custom talk one custom enjoy food', 'the portion huge', 'love friendli server great food wonder imagin menu', 'the heart attack grill downtown vega absolut flat line excus restaur', 'not much seafood like string pasta bottom', 'the salad right amount sauc not power scallop perfectli cook', 'the rip banana not rip petrifi tasteless', 'at least think refil water i struggl wave minut', 'thi place receiv star appet', 'the cocktail handmad delici', 'we definit go back', 'we glad found place', 'great food servic huge portion give militari discount', 'alway great time do gringo', 'updat went back second time still amaz', 'we got food appar never heard salt batter fish chewi', 'a great way finish great', 'the deal includ tast drink jeff went beyond expect', 'realli realli good rice time', 'the servic meh', 'it took min get milkshak noth chocol milk', 'i guess i known place would suck insid excalibur i use common sens', 'the scallop dish quit appal valu well', 'time veri bad custom servic', 'the sweet potato fri good season well', 'today second time i lunch buffet pretti good', 'there much good food vega i feel cheat wast eat opportun go rice compani', 'come like experienc underwhelm relationship parti wait person ask break', 'walk place smell like old greas trap other eat', 'the turkey roast beef bland', 'thi place', 'the pan cake everyon rave tast like sugari disast tailor palat six year old', 'i love pho spring roll oh yummi tri', 'the poor batter meat ratio made chicken tender unsatisfi', 'all i say food amaz', 'omelet die', 'everyth fresh delici', 'in summari larg disappoint dine experi', 'it like realli sexi parti mouth outrag flirt hottest person parti', 'never hard rock casino will never ever step forward in it again', 'best breakfast buffet', 'say bye bye tip ladi', 'we never go', 'will back', 'food arriv quickli', 'it not good', 'on side cafe serv realli good food', 'our server fantast found wife love roast garlic bone marrow ad extra meal anoth marrow go', 'the good thing waiter help kept bloddi mari come', 'best buffet town price cannot beat', 'i love mussel cook wine reduct duck tender potato dish delici', 'thi one better buffet i', 'so went tigerlilli fantast afternoon', 'the food delici bartend attent person and got great deal', 'the ambienc wonder music play', 'will go back next trip', 'sooooo good', 'real sushi lover let honest yama not good', 'at least min pass us order food arriv busi', 'thi realli fantast thai restaur definit worth visit', 'nice spici tender', 'good price', 'check', 'it pretti gross', 'i better atmospher', 'kind hard mess steak', 'although i much like look sound place actual experi bit disappoint', 'i know place manag serv blandest food i ever eaten prepar indian cuisin', 'worst servic boot least worri', 'servic fine waitress friendli', 'the guy steak steak love son steak best worst place said best steak ever eaten', 'we thought ventur away get good sushi place realli hit spot night', 'host staff lack better word bitch', 'bland not like place number reason i want wast time bad review i leav', 'phenomen food servic ambianc', 'i return', 'definit worth ventur strip pork belli return next time i vega', 'thi place way overpr mediocr food', 'penn vodka excel', 'they good select food includ massiv meatloaf sandwich crispi chicken wrap delish tuna melt tasti burger', 'the manag rude', 'delici nyc bagel good select cream chees real lox caper even', 'great subway fact good come everi subway not meet expect', 'i serious solid breakfast', 'thi one best bar food vega', 'he extrem rude realli mani restaur i would love dine weekend vega', 'my drink never empti made realli great menu suggest', 'don', 'the waiter help friendli rare check us', 'my husband i ate lunch disappoint food servic', 'and red curri much bamboo shoot tasti', 'nice blanket moz top feel like done cover subpar food', 'the bathroom clean place well decor', 'the menu alway chang food qualiti go servic extrem slow', 'the servic littl slow consid serv peopl server food come slow pace', 'i give thumb', 'we watch waiter pay lot attent tabl ignor us', 'my fianc i came middl day greet seat right away', 'thi great restaur mandalay bay', 'we wait forti five minut vain', 'crostini came salad stale', 'some highlight great qualiti nigiri', 'staff friendli joint alway clean', 'differ cut piec day still wonder tender well well flavor', 'i order voodoo pasta first time i realli excel pasta sinc go gluten free sever year ago', 'place good', 'unfortun must hit bakeri leftov day everyth order stale', 'i came back today sinc reloc still not impress', 'i seat immedi', 'their menu divers reason price', 'avoid cost', 'restaur alway full never wait', 'delici', 'thi place hand one best place eat phoenix metro area', 'so go look good food', 'i never treat bad', 'bacon hella salti', 'we also order spinach avocado salad ingredi sad dress liter zero tast', 'thi realli vega fine dine use right menu hand ladi price list', 'the waitress friendli', 'lordi khao soi dish not miss curri lover', 'everyth menu terrif also thrill made amaz accommod vegetarian daughter', 'perhap i caught night judg review i not inspir go back', 'the servic leav lot desir', 'the atmospher modern hip maintain touch cozi', 'not weekli haunt definit place come back everi', 'we liter sat minut one ask take order', 'the burger absolut flavor meat total bland burger overcook charcoal flavor', 'i also decid not send back waitress look like verg heart attack', 'i dress treat rude', 'it probabl dirt', 'love place hit spot i want someth healthi not lack quantiti flavor', 'i order lemon raspberri ice cocktail also incred', 'the food suck expect suck could imagin', 'interest decor', 'what i realli like crepe station', 'also serv hot bread butter home made potato chip bacon bit top origin good', 'watch prepar delici food', 'both egg roll fantast', 'when order arriv one gyro miss', 'i salad wing ice cream dessert left feel quit satisfi', 'i not realli sure joey vote best hot dog valley reader phoenix magazin', 'the best place go tasti bowl pho', 'the live music friday total blow', 'i never insult felt disrespect', 'veri friendli staff', 'it worth drive', 'i heard good thing place exceed everi hope i could dream', 'food great serivc', 'the warm beer help', 'great brunch spot', 'servic friendli invit', 'veri good lunch spot', 'i live sinc first last time i step foot place', 'the worst experi ever', 'must night place', 'the side delish mix mushroom yukon gold pure white corn beateou', 'if bug never show i would given sure side wall bug climb kitchen', 'for minut wait salad realiz come time soon', 'my friend love salmon tartar', 'won go back', 'extrem tasti', 'waitress good though', 'soggi not good', 'the jamaican mojito delici', 'which small not worth price', 'food rich order accordingli', 'the shower area outsid rins not take full shower unless mind nude everyon see', 'the servic bit lack', 'lobster bisqu bussel sprout risotto filet all need salt pepper cours none tabl', 'hope bode go busi someon cook come', 'it either cold not enough flavor bad', 'i love bacon wrap date', 'thi unbeliev bargain', 'the folk otto alway make us feel welcom special', 'as main also uninspir', 'thi place i first pho amaz', 'thi wonder experi made place must stop whenev town', 'if food bad enough enjoy deal world worst annoy drunk peopl', 'veri fun chef', 'order doubl cheeseburg got singl patti fall apart pictur upload yeah still suck', 'great place coupl drink watch sport event wall cover tv', 'if possibl give zero star', 'the descript said yum yum sauc anoth said eel sauc yet anoth said spici mayo well none roll sauc', 'i say would hardest decis honestli m dish tast suppos tast amaz', 'if not roll eye may stay not sure go back tri', 'everyon attent provid excel custom servic', 'horribl wast time money', 'now dish quit flavour', 'by time side restaur almost empti excus', 'it busi either also build freez cold', 'like review said pay eat place', 'drink took close minut come one point', 'serious flavor delight folk', 'much better ayc sushi place i went vega', 'the light dark enough set mood', 'base sub par servic i receiv effort show gratitud busi i go back', 'owner realli great peopl', 'there noth privileg work eat', 'the greek dress creami flavor', 'overal i think i would take parent place made similar complaint i silent felt', 'now pizza good peanut sauc tasti', 'we tabl servic pretti fast', 'fantast servic', 'i well would given godfath zero star possibl', 'they know make', 'tough short flavor', 'i hope place stick around', 'i bar vega not ever recal charg tap water', 'the restaur atmospher exquisit', 'good servic clean inexpens boot', 'the seafood fresh gener portion', 'plu buck', 'the servic not par either', 'thu far visit twice food absolut delici time', 'just good i year ago', 'for self proclaim coffe cafe i wildli disappoint', 'the veggitarian platter world', 'you cant go wrong food', 'you beat', 'stop place madison ironman friendli kind staff', 'the chef friendli good job', 'i better not dedic boba tea spot even jenni pho', 'i like patio servic outstand', 'the goat taco skimp meat wow flavor', 'i think not', 'i mac salad pretti bland i not get', 'i went bachi burger friend recommend not disappoint', 'servic stink', 'i wait wait', 'thi place not qualiti sushi not qualiti restaur', 'i would definit recommend wing well pizza', 'great pizza salad', 'thing went wrong they burn saganaki', 'we wait hour breakfast i could done time better home', 'thi place amaz', 'i hate disagre fellow yelper husband i disappoint place', 'wait hour never got either pizza mani around us came later', 'just know slow', 'the staff great food delish incred beer select', 'i live neighborhood i disappoint i back conveni locat', 'i know pull pork could soooo delici', 'you get incred fresh fish prepar care', 'befor i go i gave star rate pleas know third time eat bachi burger write review', 'i love fact everyth menu worth', 'never i dine place', 'the food excel servic good', 'good beer drink select good food select', 'pleas stay away shrimp stir fri noodl', 'the potato chip order sad i could probabl count mani chip box probabl around', 'food realli bore', 'good servic check', 'thi greedi corpor never see anoth dime', 'will never ever go back', 'as much i like go back i get pass atroci servic never return', 'in summer dine charm outdoor patio delight', 'i not expect good', 'fantast food', 'she order toast english muffin came untoast', 'the food good', 'never go back', 'great food price high qualiti hous made', 'the bu boy hand rude', 'by point friend i basic figur place joke mind make publicli loudli known', 'back good bbq lighter fare reason price tell public back old way', 'and consid two us left full happi go wrong', 'all bread made hous', 'the downsid servic', 'also fri without doubt worst fri i ever', 'servic except food good review', 'a coupl month later i return amaz meal', 'favorit place town shawarrrrrrma', 'the black eye pea sweet potato unreal', 'you disappoint', 'they could serv vinaigrett may make better overal dish still good', 'i go far mani place i never seen restaur serv egg breakfast especi', 'when mom i got home immedi got sick bite salad', 'the server not pleasant deal alway honor pizza hut coupon', 'both truli unbeliev good i glad went back', 'we fantast servic pleas atmospher', 'everyth gross', 'i love place', 'great servic food', 'first bathroom locat dirti seat cover not replenish plain yucki', 'the burger i got gold standard burger kind disappoint', 'omg food delicioso', 'there noth authent place', 'spaghetti noth special whatsoev', 'of dish salmon best great', 'the veget fresh sauc feel like authent thai', 'it worth drive tucson', 'the select probabl worst i seen vega none', 'pretti good beer select', 'thi place like chipotl better', 'classi warm atmospher fun fresh appet succul steak basebal steak', 'star brick oven bread app', 'i eaten multipl time time food delici', 'we sat anoth ten minut final gave left', 'he terribl', 'everyon treat equal special', 'it take min pancak egg', 'it delici', 'on good side staff genuin pleasant enthusiast real treat', 'sadli gordon ramsey steak place shall sharpli avoid next trip vega', 'as alway even wonder food delici', 'best fish i ever life', 'the bathroom next door nice', 'the buffet small food offer bland', 'thi outstand littl restaur best food i ever tast', 'pretti cool i would say', 'definit turn doubt i back unless someon els buy', 'server great job handl larg rowdi tabl', 'i find wast food despic food', 'my wife lobster bisqu soup lukewarm', 'would come back i sushi crave vega', 'the staff great ambianc great', 'he deserv star', 'i left stomach ach felt sick rest day', 'they drop ball', 'the dine space tini elegantli decor comfort', 'they custom order way like usual eggplant green bean stir fri love', 'and bean rice mediocr best', 'best taco town far', 'i took back money got outta', 'in interest part town place amaz', 'rude inconsider manag', 'the staff not friendli wait time serv horribl one even say hi first minut', 'i back', 'they great dinner', 'the servic outshin i definit recommend halibut', 'the food terribl', 'will never ever go back and have told mani peopl what had happen', 'i recommend unless car break front starv', 'i come back everi time i vega', 'thi place deserv one star food', 'thi disgrac', 'def come back bowl next time', 'if want healthi authent ethic food tri place', 'i continu come ladi night andddd date night highli recommend place anyon area', 'i sever time past experi alway great', 'we walk away stuf happi first vega buffet experi', 'servic excel price pretti reason consid vega locat insid crystal shop mall aria', 'to summar food incred nay transcend noth bring joy quit like memori pneumat condiment dispens', 'i probabl one peopl ever go ian not like', 'kid pizza alway hit lot great side dish option kiddo', 'servic perfect famili atmospher nice see', 'cook perfect servic impecc', 'thi one simpli disappoint', 'overal i disappoint qualiti food bouchon', 'i account know i get screw', 'great place eat remind littl mom pop shop san francisco bay area', 'today first tast buldogi gourmet hot dog i tell i ever thought possibl', 'left frustrat', 'i definit soon', 'food realli good i got full petti fast', 'servic fantast', 'total wast of time', 'i know kind best ice tea', 'come hungri leav happi stuf', 'for servic i give star', 'i assur disappoint', 'i take littl bad servic food suck', 'gave tri eat crust teeth still sore', 'but i complet gross', 'i realli enjoy eat', 'first time go i think i quickli becom regular', 'our server nice even though look littl overwhelm need stay profession friendli end', 'from dinner companion told everyth fresh nice textur tast', 'on ground right next tabl larg smear step track everywher pile green bird poop', 'furthermor even find hour oper websit', 'we tri like place time i think done', 'what mistak', 'no complaint', 'thi serious good pizza i expert connisseur topic', 'waiter jerk', 'strike want rush', 'these nicest restaur owner i ever come across', 'i never come', 'we love biscuit', 'servic quick friendli', 'order appet took minut pizza anoth minut', 'so absolutley fantast', 'it huge awkward lb piec cow th gristl fat', 'definit come back', 'i like steiner dark feel like bar', 'wow spici delici', 'if not familiar check', 'i take busi dinner dollar elsewher', 'i love go back', 'anyway fs restaur wonder breakfast lunch', 'noth special', 'each day week differ deal delici', 'not mention combin pear almond bacon big winner', 'will not back', 'sauc tasteless', 'the food delici spici enough sure ask spicier prefer way', 'my ribey steak cook perfectli great mesquit flavor', 'i think go back anytim soon', 'food gooodd', 'i far sushi connoisseur i definit tell differ good food bad food certainli bad food', 'i insult', 'the last time i lunch bad', 'the chicken wing contain driest chicken meat i ever eaten', 'the food good i enjoy everi mouth enjoy relax venu coupl small famili group etc', 'nargil i think great', 'best tater tot southwest', 'we love place', 'definit not worth i paid', 'the vanilla ice cream creami smooth profiterol choux pastri fresh enough', 'im az time new spot', 'the manag worst', 'the insid realli quit nice clean', 'the food outstand price reason', 'i think i run back carli anytim soon food', 'thi due fact took minut acknowledg anoth minut get food kept forget thing', 'love margarita', 'thi first vega buffet not disappoint', 'veri good though', 'the one note ventil could use upgrad', 'great pork sandwich', 'don wast time', 'total letdown i would much rather go camelback flower shop cartel coffe', 'third chees friend burger cold', 'we enjoy pizza brunch', 'the steak well trim also perfectli cook', 'we group claim would handl us beauti', 'i love', 'we ask bill leav without eat bring either', 'thi place jewel la vega exactli i hope find nearli ten year live', 'seafood limit boil shrimp crab leg crab leg definit not tast fresh', 'the select food not best', 'delici i absolut back', 'thi small famili restaur fine dine establish', 'they toro tartar cavier extraordinari i like thinli slice wagyu white truffl', 'i dont think i back long time', 'it attach ga station rare good sign', 'how awesom', 'i back mani time soon', 'the menu much good stuff could not decid', 'wors humili worker right front bunch horribl name call', 'conclus veri fill meal', 'their daili special alway hit group', 'and tragedi struck', 'the pancak also realli good pretti larg', 'thi first crawfish experi delici', 'their monster chicken fri steak egg time favorit', 'waitress sweet funni', 'i also tast mom multi grain pumpkin pancak pecan butter amaz fluffi delici', 'i rather eat airlin food serious', 'cant say enough good thing place', 'the ambianc incred', 'the waitress manag friendli', 'i would not recommend place', 'overal i impress noca', 'my gyro basic lettuc', 'terribl servic', 'thoroughli disappoint', 'i much pasta i love homemad hand made pasta thin pizza', 'give tri happi', 'by far best cheesecurd ever', 'reason price also', 'everyth perfect night', 'the food good typic bar food', 'drive get', 'at first glanc love bakeri cafe nice ambianc clean friendli staff', 'anyway i not think go back', 'point finger item menu order disappoint', 'oh thing beauti restaur', 'if gone go now', 'a greasi unhealthi meal', 'first time might last', 'those burger amaz', 'similarli deliveri man not say word apolog food minut late', 'and way expens', 'be sure order dessert even need pack go tiramisu cannoli die', 'thi first time i wait next', 'the bartend also nice', 'everyth good tasti', 'thi place two thumb way', 'the best place vega breakfast check sat sun', 'if love authent mexican food want whole bunch interest yet delici meat choos need tri place', 'terribl manag', 'an excel new restaur experienc frenchman', 'if zero star i would give zero star', 'great steak great side great wine amaz dessert', 'worst martini ever', 'the steak shrimp opinion best entre gc', 'i opportun today sampl amaz pizza', 'we wait thirti minut seat although vacant tabl folk wait', 'the yellowtail carpaccio melt mouth fresh', 'i tri go back even empti', 'no i go eat potato i found stranger hair', 'just spici enough perfect actual', 'last night second time dine i happi i decid go back', 'not even hello right', 'the dessert bit strang', 'my boyfriend i came first time recent trip vega could not pleas qualiti food servic', 'i realli recommend place go wrong donut place', 'nice ambianc', 'i would recommend save room', 'i guess mayb went night disgrac', 'howev recent experi particular locat not good', 'i know not like restaur someth', 'avoid thi establish', 'i think restaur suffer not tri hard enough', 'all tapa dish delici', 'i heart place', 'my salad bland vinegrett babi green heart palm', 'after two i felt disgust', 'a good time', 'i believ place great stop huge belli hanker sushi', 'gener portion great tast', 'i never go back place never ever recommend place anyon', 'the server went back forth sever time not even much are help', 'food delici', 'an hour serious', 'i consid theft', 'eew thi locat need complet overhaul', 'we recent wit poor qualiti manag toward guest well', 'wait wait wait', 'he also came back check us regularli excel servic', 'our server super nice check us mani time', 'the pizza tast old super chewi not good way', 'i swung give tri deepli disappoint', 'servic good compani better', 'the staff also friendli effici', 'as servic i fan quick serv nice folk', 'boy sucker dri', 'over rate', 'if look authent thai food go els', 'their steak recommend', 'after i pull car i wait anoth minut acknowledg', 'great food great servic clean friendli set', 'all i assur i back', 'i hate thing much cheap qualiti black oliv', 'my breakfast perpar great beauti present giant slice toast lightli dust powder sugar', 'the kid play area nasti', 'great place fo take eat', 'the waitress friendli happi accomod vegan veggi option', 'omg i felt like i never eaten thai food dish', 'it extrem crumbi pretti tasteless', 'it pale color instead nice char no flavor', 'the crouton also tast homemad extra plu', 'i got home see driest damn wing ever', 'it regular stop trip phoenix', 'i realli enjoy crema caf expand i even told friend best breakfast', 'not good money', 'i miss wish one philadelphia', 'we got sit fairli fast end wait minut place order anoth minut food arriv', 'they also best chees crisp town', 'good valu great food great servic', 'couldn ask satisfi meal', 'the food good', 'it awesom', 'i want leav', 'we made drive way north scottsdal i not one bit disappoint', 'i not eat', 'the owner realli realli need quit soooooo cheap let wrap freak sandwich two paper not one', 'i check place coupl year ago not impress', 'the chicken i got definit reheat ok wedg cold soggi', 'sorri i not get food anytim soon', 'an absolut must visit', 'the cow tongu cheek taco amaz', 'my friend not like bloodi mari', 'despit hard i rate busi actual rare give star', 'they realli want make experi good one', 'i not return', 'i chicken pho tast bland', 'veri disappoint', 'the grill chicken tender yellow saffron season', 'drive thru mean not want wait around half hour food somehow end go make us wait wait', 'pretti awesom place', 'ambienc perfect', 'best luck rude non custom servic focus new manag', 'ani grandmoth make roast chicken better one', 'i ask multipl time wine list time ignor i went hostess got one', 'the staff alway super friendli help especi cool bring two small boy babi', 'four star food guy blue shirt great vibe still let us eat', 'the roast beef sandwich tast realli good', 'same even i drastic sick', 'high qualiti chicken chicken caesar salad', 'order burger rare came done', 'we promptli greet seat', 'tri go lunch madhous', 'i proven dead wrong sushi bar not qualiti great servic fast food impecc', 'after wait hour seat i not greatest mood', 'thi good joint', 'the macaron insan good', 'i not eat', 'our waiter attent friendli inform', 'mayb cold would somewhat edibl', 'thi place lot promis fail deliv', 'veri bad experi', 'what mistak', 'food averag best', 'great food', 'we go back anytim soon', 'veri veri disappoint order big bay plater', 'great place relax awesom burger beer', 'it perfect sit famili meal get togeth friend', 'not much flavor poorli construct', 'the patio seat comfort', 'the fri rice dri well', 'hand favorit italian restaur', 'that scream legit book somethat also pretti rare vega', 'it not fun experi', 'the atmospher great love duo violinist play song request', 'i person love hummu pita baklava falafel baba ganoush amaz eggplant', 'veri conveni sinc stay mgm', 'the owner super friendli staff courteou', 'both great', 'eclect select', 'the sweet potato tot good onion ring perfect close i', 'the staff attent', 'and chef gener time even came around twice take pictur', 'the owner use work nobu place realli similar half price', 'googl mediocr i imagin smashburg pop', 'dont go', 'i promis disappoint', 'as sushi lover avoid place mean', 'what great doubl cheeseburg', 'awesom servic food', 'a fantast neighborhood gem', 'i wait go back', 'the plantain worst i ever tast', 'it great place i highli recommend', 'servic slow not attent', 'i gave star i give star', 'your staff spend time talk', 'dessert panna cotta amaz', 'veri good food great atmospher', 'damn good steak', 'total brunch fail', 'price reason flavor spot sauc home made slaw not drench mayo', 'the decor nice piano music soundtrack pleasant', 'the steak amaz rge fillet relleno best seafood plate ever', 'good food good servic', 'it absolut amaz', 'i probabl back honest', 'definit back', 'the sergeant pepper beef sandwich auju sauc excel sandwich well', 'hawaiian breez mango magic pineappl delight smoothi i tri far good', 'went lunch servic slow', 'we much say place walk expect amaz quickli disappoint', 'i mortifi', 'needless say never back', 'anyway the food definit not fill price pay expect', 'the chip came drip greas mostli not edibl', 'i realli impress strip steak', 'have go sinc everi meal awesom', 'our server nice attent serv staff', 'the cashier friendli even brought food', 'i work hospit industri paradis valley refrain recommend cibo longer', 'the atmospher fun', 'would not recommend other', 'servic quick even go order like like', 'i mean realli get famou fish chip terribl', 'that said mouth belli still quit pleas', 'not thing', 'thumb up', 'if read pleas go', 'i love grill pizza remind legit italian pizza', 'onli pro larg seat area nice bar area great simpl drink menu the best brick oven pizza homemad dough', 'they realli nice atmospher', 'tonight i elk filet special suck', 'after one bite i hook', 'we order old classic new dish go time sore disappoint everyth', 'cute quaint simpl honest', 'the chicken delici season perfect fri outsid moist chicken insid', 'the food great alway compliment chef', 'special thank dylan t recommend order all yummi tummi', 'awesom select beer', 'great food awesom servic', 'one nice thing ad gratuiti bill sinc parti larger expect tip', 'a fli appl juic a fli', 'the han nan chicken also tasti', 'as servic i thought good', 'the food bare lukewarm must sit wait server bring us', 'ryan bar definit one edinburgh establish i revisit', 'nicest chines restaur i', 'overal i like food servic', 'they also serv indian naan bread hummu spici pine nut sauc world', 'probabl never come back recommend', 'friend pasta also bad bare touch', 'tri airport experi tasti food speedi friendli servic', 'i love decor chines calligraphi wall paper', 'never anyth complain', 'the restaur clean famili restaur feel', 'it way fri', 'i not sure long stood long enough begin feel awkwardli place', 'when i open sandwich i impress not good way', 'will not back', 'there warm feel servic i felt like guest special treat', 'an extens menu provid lot option breakfast', 'i alway order vegetarian menu dinner wide array option choos', 'i watch price inflat portion get smaller manag attitud grow rapidli', 'wonder lil tapa ambienc made feel warm fuzzi insid', 'i got enjoy seafood salad fabul vinegrett', 'the wonton thin not thick chewi almost melt mouth', 'level spici perfect spice whelm soup', 'we sat right time server get go fantast', 'main thing i enjoy crowd older crowd around mid', 'when i side town definit spot i hit', 'i wait minut get drink longer get arepa', 'thi great place eat', 'the jalapeno bacon soooo good', 'the servic poor that nice', 'food good servic good price good', 'the place not clean food oh stale', 'the chicken dish ok beef like shoe leather', 'but servic beyond bad', 'i happi', 'tast like dirt', 'one place phoenix i would defin go back', 'the block amaz', 'it close hous low key non fanci afford price good food', 'both hot sour egg flower soup absolut star', 'my sashimi poor qualiti soggi tasteless', 'great time famili dinner sunday night', 'food not tasti not say real tradit hunan style', 'what bother slow servic', 'the flair bartend absolut amaz', 'their frozen margarita way sugari tast', 'these good order twice', 'so nutshel the restaraunt smell like combin dirti fish market sewer', 'my girlfriend veal bad', 'unfortun not good', 'i pretti satifi experi', 'join club get awesom offer via email', 'perfect someon like beer ice cold case even colder', 'bland flavorless good way describ bare tepid meat', 'the chain i fan beat place easili', 'the nacho must have', 'we not come back', 'i mani word say place everyth pretti well', 'the staff super nice quick even crazi crowd downtown juri lawyer court staff', 'great atmospher friendli fast servic', 'when i receiv pita huge lot meat thumb', 'onc food arriv meh', 'pay hot dog fri look like came kid meal wienerschnitzel not idea good meal', 'the classic main lobster roll fantast', 'my brother law work mall ate day guess sick night', 'so good i go review place twice herea tribut place tribut event held last night', 'the chip salsa realli good salsa fresh', 'thi place great', 'mediocr food', 'onc get insid impress place', 'i super pissd', 'and servic super friendli', 'whi sad littl veget overcook', 'thi place nice surpris', 'they golden crispi delici', 'i high hope place sinc burger cook charcoal grill unfortun tast fell flat way flat', 'i could eat bruschetta day devin', 'not singl employe came see ok even need water refil final serv us food', 'lastli mozzarella stick best thing order', 'the first time i ever came i amaz experi i still tell peopl awesom duck', 'the server neglig need made us feel unwelcom i would not suggest place', 'the servic terribl though', 'thi place overpr not consist boba realli overpr', 'it pack', 'i love place', 'i say dessert yummi', 'the food terribl', 'the season fruit fresh white peach pure', 'it kept get wors wors i offici done', 'thi place honestli blown', 'but i definit would not eat', 'do not wast money', 'i love put food nice plastic contain oppos cram littl paper takeout box', 'the cr pe delic thin moist', 'aw servic', 'won ever go', 'food qualiti horribl', 'for price i think place i would much rather gone', 'the servic fair best', 'i love sushi i found kabuki price hip servic', 'do favor stay away dish', 'veri poor servic', 'no one tabl thought food averag worth wait', 'best servic food ever maria server good friendli made day', 'they excel', 'i paid bill not tip i felt server terribl job', 'just lunch great experi', 'i never bland food surpris consid articl read focus much spice flavor', 'food way overpr portion fuck small', 'i recent tri caballero i back everi week sinc', 'buck head realli expect better food', 'the food came good pace', 'i ate twice last visit especi enjoy salmon salad', 'i back', 'we could not believ dirti oyster', 'thi place deserv star', 'i would not recommend place', 'in fact i go round star awesom', 'to disbelief dish qualifi worst version food i ever tast', 'bad day not i low toler rude custom servic peopl job nice polit wash dish otherwis', 'potato great biscuit', 'i probabl would not go', 'so flavor perfect amount heat', 'the price reason servic great', 'the wife hate meal coconut shrimp friend realli not enjoy meal either', 'my fella got huevo ranchero look appeal', 'went happi hour great list wine', 'some may say buffet pricey i think get pay place get quit lot', 'i probabl come back', 'worst food servic i', 'thi place pretti good nice littl vibe restaur', 'talk great custom servic cours back', 'hot dish not hot cold dish close room temp i watch staff prepar food bare hand glove everyth deep fri oil', 'i love fri bean', 'alway pleasur deal', 'they plethora salad sandwich everyth i tri get seal approv', 'thi place awesom want someth light healthi summer', 'for sushi strip place go', 'the servic great even manag came help tabl', 'the feel dine room colleg cook cours high class dine servic slow best', 'i start review two star i edit give one', 'worst sushi ever eat besid costco', 'all excel restaur highlight great servic uniqu menu beauti set', 'my boyfriend sat bar complet delight experi', 'weird vibe owner', 'there hardli meat', 'i better bagel groceri store', 'go to place gyro', 'i love owner chef one authent japanes cool dude', 'now burger good pizza use amaz doughi flavorless', 'i found six inch long piec wire salsa', 'the servic terribl food mediocr', 'we defin enjoy', 'i order albondiga soup warm tast like tomato soup frozen meatbal', 'on three differ occas i ask well done medium well three time i got bloodiest piec meat plate', 'i two bite refus eat anymor', 'the servic extrem slow', 'after minut wait i got tabl', 'serious killer hot chai latt', 'no allergi warn menu waitress absolut clue meal not contain peanut', 'my boyfriend tri mediterranean chicken salad fell love', 'their rotat beer tap also highlight place', 'price bit concern mellow mushroom', 'worst thai ever', 'if stay vega must get breakfast least', 'i want first say server great perfect servic', 'the pizza select good', 'i strawberri tea good', 'highli unprofession rude loyal patron', 'overal great experi', 'spend money elsewher', 'their regular toast bread equal satisfi occasion pat butter mmmm', 'the buffet bellagio far i anticip', 'and drink weak peopl', 'my order not correct', 'also i feel like chip bought not made hous', 'after disappoint dinner went elsewher dessert', 'the chip sal amaz', 'we return', 'thi new fav vega buffet spot', 'i serious cannot believ owner mani unexperienc employe run around like chicken head cut', 'veri sad', 'felt insult disrespect could talk judg anoth human like', 'how call steakhous properli cook steak i understand', 'i not impress concept food', 'the thing i crazi guacamol i like pur ed', 'there realli noth postino hope experi better', 'i got food poison buffet', 'they brought fresh batch fri i think yay someth warm', 'what should hilari yummi christma eve dinner rememb biggest fail entir trip us', 'needless say i go back anytim soon', 'thi place disgust', 'everi time i eat i see care teamwork profession degre', 'the ri style calamari joke', 'howev much garlic fondu bare edibl', 'i could bare stomach meal complain busi lunch', 'it bad i lost heart finish', 'it also took forev bring us check ask', 'we one make scene restaur i get definit lost love one', 'disappoint experi', 'the food par denni say not good', 'if want wait mediocr food downright terribl servic place', 'waaaaaayyyyyyyyyi rate i say', 'we go back', 'the place fairli clean food simpli worth', 'thi place lack style', 'the sangria half glass wine full ridicul', 'don bother come', 'the meat pretti dri i slice brisket pull pork', 'the build seem pretti neat bathroom pretti trippi i eat', 'it equal aw', 'probabl not hurri go back', 'slow seat even reserv', 'not good stretch imagin', 'the cashew cream sauc bland veget undercook', 'the chipolt ranch dip saus tasteless seem thin water heat', 'it bit sweet not realli spici enough lack flavor', 'i veri disappoint', 'thi place horribl way overpr', 'mayb vegetarian fare i twice i thought averag best', 'it busi know', 'the tabl outsid also dirti lot time worker not alway friendli help menu', 'the ambianc not feel like buffet set douchey indoor garden tea biscuit', 'con spotti servic', 'the fri not hot neither burger', 'but came back cold', 'then food came disappoint ensu', 'the real disappoint waiter', 'my husband said rude not even apolog bad food anyth', 'the reason eat would fill night bing drink get carb stomach', 'insult profound deuchebaggeri go outsid smoke break serv solidifi', 'if someon order two taco think may part custom servic ask combo ala cart', 'she quit disappoint although blame need place door', 'after rave review i wait eat disappoint', 'del taco pretti nasti avoid possibl', 'it not hard make decent hamburg', 'but i like', 'hell i go back', 'we gotten much better servic pizza place next door servic receiv restaur', 'i know big deal place i back ya', 'i immedi said i want talk manag i not want talk guy shot firebal behind bar', 'the ambianc much better', 'unfortun set us disapppoint entre', 'the food good', 'your server suck wait correct server heimer suck', 'what happen next pretti put', 'bad caus i know famili own i realli want like place', 'overpr get', 'i vomit bathroom mid lunch', 'i kept look time soon becom minut yet still food', 'i place eat circumst would i ever return top list', 'we start tuna sashimi brownish color obvious fresh', 'food averag', 'it sure beat nacho movi i would expect littl bit come restaur', 'all ha long bay bit flop', 'the problem i charg sandwich bigger subway sub offer better amount veget', 'shrimp when i unwrap i live mile brushfir liter ice cold', 'it lack flavor seem undercook dri', 'it realli impress place close', 'i would avoid place stay mirag', 'the refri bean came meal dri crusti food bland', 'spend money time place els', 'a ladi tabl next us found live green caterpillar in salad', 'present food aw', 'i tell disappoint i', 'i think food flavor textur lack', 'appetit instantli gone', 'overal i not impress would not go back', 'the whole experi underwhelm i think go ninja sushi next time', 'then i wast enough life pour salt wound draw time took bring check']\n"
          ]
        }
      ],
      "source": [
        "print(corpus)"
      ]
    },
    {
      "cell_type": "markdown",
      "metadata": {
        "id": "CLqmAkANCp1-",
        "colab_type": "text"
      },
      "source": [
        "## Creating the Bag of Words model"
      ]
    },
    {
      "cell_type": "code",
      "execution_count": 5,
      "metadata": {},
      "outputs": [],
      "source": [
        "from sklearn.feature_extraction.text import CountVectorizer\n",
        "cv = CountVectorizer(max_features= 1600)\n",
        "X = cv.fit_transform(corpus).toarray()\n",
        "y = dataset.iloc[:, -1].values\n",
        "\n"
      ]
    },
    {
      "cell_type": "code",
      "execution_count": 6,
      "metadata": {},
      "outputs": [
        {
          "output_type": "stream",
          "name": "stdout",
          "text": [
            "1600\n"
          ]
        }
      ],
      "source": [
        "print(len(X[0]))"
      ]
    },
    {
      "cell_type": "markdown",
      "metadata": {
        "id": "DH_VjgPzC2cd",
        "colab_type": "text"
      },
      "source": [
        "## Splitting the dataset into the Training set and Test set"
      ]
    },
    {
      "cell_type": "code",
      "execution_count": 7,
      "metadata": {},
      "outputs": [],
      "source": [
        "from sklearn.model_selection import train_test_split\n",
        "X_train, X_test, y_train, y_test = train_test_split(X, y, test_size= .2, random_state = 0)"
      ]
    },
    {
      "cell_type": "markdown",
      "metadata": {
        "id": "VkIq23vEDIPt",
        "colab_type": "text"
      },
      "source": [
        "## Training the Naive Bayes model on the Training set"
      ]
    },
    {
      "cell_type": "code",
      "execution_count": 8,
      "metadata": {},
      "outputs": [
        {
          "output_type": "execute_result",
          "data": {
            "text/plain": [
              "RandomForestClassifier(criterion='entropy', n_estimators=1000)"
            ]
          },
          "metadata": {},
          "execution_count": 8
        }
      ],
      "source": [
        "from sklearn.naive_bayes import GaussianNB\n",
        "from sklearn.ensemble import RandomForestClassifier\n",
        "from sklearn.svm  import SVC\n",
        "from sklearn.linear_model import LogisticRegression\n",
        "# classifier = GaussianNB()\n",
        "classifier = RandomForestClassifier(n_estimators=1000, criterion='entropy')\n",
        "# classifier = SVC(kernel='rbf')\n",
        "# classifier = LogisticRegression()\n",
        "classifier.fit(X_train, y_train)\n"
      ]
    },
    {
      "cell_type": "markdown",
      "metadata": {
        "id": "1JaRM7zXDWUy",
        "colab_type": "text"
      },
      "source": [
        "## Predicting the Test set results"
      ]
    },
    {
      "cell_type": "code",
      "execution_count": 9,
      "metadata": {},
      "outputs": [
        {
          "output_type": "stream",
          "name": "stdout",
          "text": [
            "[[0 0]\n [0 0]\n [0 0]\n [0 0]\n [0 0]\n [0 0]\n [1 1]\n [0 0]\n [0 0]\n [1 1]\n [1 1]\n [1 1]\n [1 0]\n [1 1]\n [1 1]\n [1 1]\n [0 0]\n [0 0]\n [0 0]\n [1 1]\n [0 0]\n [1 1]\n [1 1]\n [0 0]\n [0 0]\n [1 1]\n [0 1]\n [1 1]\n [1 1]\n [0 0]\n [0 1]\n [0 1]\n [0 1]\n [0 1]\n [1 1]\n [0 0]\n [0 0]\n [0 0]\n [0 0]\n [1 1]\n [1 1]\n [0 0]\n [0 1]\n [0 0]\n [0 0]\n [0 0]\n [1 0]\n [1 0]\n [1 0]\n [0 0]\n [1 1]\n [1 1]\n [1 1]\n [1 1]\n [0 0]\n [0 0]\n [0 1]\n [0 1]\n [0 0]\n [1 1]\n [0 0]\n [0 0]\n [0 0]\n [1 0]\n [0 1]\n [0 0]\n [0 1]\n [0 1]\n [0 1]\n [0 0]\n [1 1]\n [1 1]\n [1 1]\n [0 1]\n [0 0]\n [0 0]\n [0 1]\n [1 1]\n [0 0]\n [1 1]\n [0 0]\n [1 1]\n [1 1]\n [0 0]\n [1 1]\n [1 1]\n [0 0]\n [0 0]\n [1 1]\n [0 0]\n [0 0]\n [1 1]\n [0 0]\n [0 0]\n [0 0]\n [0 1]\n [0 0]\n [0 1]\n [0 1]\n [1 0]\n [0 1]\n [1 1]\n [1 1]\n [1 0]\n [1 1]\n [0 0]\n [0 1]\n [1 1]\n [0 0]\n [0 1]\n [0 1]\n [1 1]\n [0 0]\n [1 0]\n [0 1]\n [1 0]\n [1 1]\n [1 1]\n [1 1]\n [1 1]\n [0 1]\n [0 0]\n [1 1]\n [0 0]\n [0 0]\n [0 0]\n [0 1]\n [0 0]\n [0 0]\n [0 1]\n [0 0]\n [1 1]\n [0 0]\n [0 0]\n [1 1]\n [1 1]\n [1 1]\n [1 1]\n [1 1]\n [0 0]\n [1 1]\n [1 1]\n [1 1]\n [0 0]\n [0 0]\n [0 0]\n [0 0]\n [0 1]\n [0 1]\n [1 1]\n [0 1]\n [1 1]\n [1 1]\n [1 1]\n [0 0]\n [0 0]\n [1 1]\n [0 1]\n [1 1]\n [0 0]\n [0 0]\n [0 0]\n [1 1]\n [0 1]\n [1 0]\n [0 0]\n [0 0]\n [0 0]\n [0 0]\n [0 1]\n [0 0]\n [1 1]\n [1 1]\n [0 0]\n [0 0]\n [0 1]\n [0 0]\n [1 1]\n [0 0]\n [1 1]\n [1 1]\n [0 0]\n [0 0]\n [0 0]\n [0 0]\n [0 1]\n [0 0]\n [0 1]\n [0 0]\n [1 1]\n [1 1]\n [0 0]\n [0 0]\n [0 0]\n [0 1]\n [0 0]\n [1 1]\n [1 1]\n [0 0]\n [0 1]]\n"
          ]
        }
      ],
      "source": [
        "y_pred = classifier.predict(X_test)\n",
        "print(np.concatenate((y_pred.reshape(len(y_pred),1), y_test.reshape(len(y_test),1)),1))"
      ]
    },
    {
      "cell_type": "markdown",
      "metadata": {
        "id": "xoMltea5Dir1",
        "colab_type": "text"
      },
      "source": [
        "## Making the Confusion Matrix"
      ]
    },
    {
      "cell_type": "code",
      "execution_count": 10,
      "metadata": {},
      "outputs": [
        {
          "output_type": "stream",
          "name": "stdout",
          "text": [
            "[[87 10]\n [36 67]]\n"
          ]
        },
        {
          "output_type": "execute_result",
          "data": {
            "text/plain": [
              "0.77"
            ]
          },
          "metadata": {},
          "execution_count": 10
        }
      ],
      "source": [
        "from sklearn.metrics import confusion_matrix, accuracy_score\n",
        "cm = confusion_matrix(y_test, y_pred)\n",
        "print(cm)\n",
        "accuracy_score(y_test, y_pred)"
      ]
    },
    {
      "cell_type": "code",
      "execution_count": null,
      "metadata": {},
      "outputs": [],
      "source": []
    }
  ]
}