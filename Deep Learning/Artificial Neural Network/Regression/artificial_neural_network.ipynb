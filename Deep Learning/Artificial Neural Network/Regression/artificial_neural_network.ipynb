{
  "nbformat": 4,
  "nbformat_minor": 0,
  "metadata": {
    "colab": {
      "name": "Artificial Neural Network",
      "provenance": [],
      "collapsed_sections": [],
      "toc_visible": true
    },
    "kernelspec": {
      "name": "python394jvsc74a57bd02951d919548ae18de2df5ded62b9a6d18db65d3b5a4ffaab87b83029c7c31e33",
      "display_name": "Python 3.9.4 64-bit ('Python39')",
      "language": "python"
    }
  },
  "cells": [
    {
      "cell_type": "markdown",
      "metadata": {
        "id": "3cbb7fRy-eyr",
        "colab_type": "text"
      },
      "source": [
        "# Artificial Neural Network"
      ]
    },
    {
      "cell_type": "markdown",
      "metadata": {
        "id": "8sNDnxE2-pwE",
        "colab_type": "text"
      },
      "source": [
        "### Importing the libraries"
      ]
    },
    {
      "cell_type": "code",
      "execution_count": 1,
      "metadata": {},
      "outputs": [
        {
          "output_type": "stream",
          "name": "stdout",
          "text": [
            "INFO:tensorflow:Enabling eager execution\n",
            "INFO:tensorflow:Enabling v2 tensorshape\n",
            "INFO:tensorflow:Enabling resource variables\n",
            "INFO:tensorflow:Enabling tensor equality\n",
            "INFO:tensorflow:Enabling control flow v2\n"
          ]
        }
      ],
      "source": [
        "import numpy as np\n",
        "import pandas as pd\n",
        "import tensorflow as tf"
      ]
    },
    {
      "cell_type": "markdown",
      "metadata": {
        "id": "AG3FQEch-yuA",
        "colab_type": "text"
      },
      "source": [
        "## Part 1 - Data Preprocessing"
      ]
    },
    {
      "cell_type": "markdown",
      "metadata": {
        "id": "-4zq8Mza_D9O",
        "colab_type": "text"
      },
      "source": [
        "### Importing the dataset"
      ]
    },
    {
      "cell_type": "code",
      "execution_count": 2,
      "metadata": {},
      "outputs": [],
      "source": [
        "dataset = pd.read_excel('Folds5x2_pp.xlsx')\n",
        "X = dataset.iloc[:, :-1].values\n",
        "y = dataset.iloc[:, -1].values"
      ]
    },
    {
      "cell_type": "markdown",
      "metadata": {
        "id": "VC6omXel_Up0",
        "colab_type": "text"
      },
      "source": [
        "### Splitting the dataset into the Training set and Test set"
      ]
    },
    {
      "cell_type": "code",
      "execution_count": 3,
      "metadata": {},
      "outputs": [],
      "source": [
        "from sklearn.model_selection import train_test_split\n",
        "X_train, X_test, y_train, y_test = train_test_split(X, y, random_state=0)"
      ]
    },
    {
      "cell_type": "markdown",
      "metadata": {
        "id": "_mSLlAT9_eyI",
        "colab_type": "text"
      },
      "source": [
        "## Part 2 - Building the ANN"
      ]
    },
    {
      "cell_type": "markdown",
      "metadata": {
        "id": "CsBULd_f_wLY",
        "colab_type": "text"
      },
      "source": [
        "### Initializing the ANN"
      ]
    },
    {
      "cell_type": "code",
      "execution_count": 4,
      "metadata": {},
      "outputs": [],
      "source": [
        "ann = tf.keras.models.Sequential()"
      ]
    },
    {
      "cell_type": "markdown",
      "metadata": {
        "id": "iitAFJS_ABUn",
        "colab_type": "text"
      },
      "source": [
        "### Adding the input layer and the first hidden layer"
      ]
    },
    {
      "cell_type": "code",
      "execution_count": 5,
      "metadata": {},
      "outputs": [],
      "source": [
        "ann.add(tf.keras.layers.Dense(units=6, activation='relu'))"
      ]
    },
    {
      "cell_type": "markdown",
      "metadata": {
        "id": "-lb4kK_wAKbs",
        "colab_type": "text"
      },
      "source": [
        "### Adding the second hidden layer"
      ]
    },
    {
      "cell_type": "code",
      "execution_count": 6,
      "metadata": {},
      "outputs": [],
      "source": [
        "ann.add(tf.keras.layers.Dense(units=6, activation='relu'))\n"
      ]
    },
    {
      "cell_type": "markdown",
      "metadata": {
        "id": "jwMOmKb3AdBY",
        "colab_type": "text"
      },
      "source": [
        "### Adding the output layer"
      ]
    },
    {
      "cell_type": "code",
      "execution_count": 7,
      "metadata": {},
      "outputs": [],
      "source": [
        "ann.add(tf.keras.layers.Dense(units=1))\n"
      ]
    },
    {
      "cell_type": "markdown",
      "metadata": {
        "id": "fq7e4fF6A1yy",
        "colab_type": "text"
      },
      "source": [
        "## Part 3 - Training the ANN"
      ]
    },
    {
      "cell_type": "markdown",
      "metadata": {
        "id": "qDeylAs2An25",
        "colab_type": "text"
      },
      "source": [
        "### Compiling the ANN"
      ]
    },
    {
      "cell_type": "code",
      "execution_count": 8,
      "metadata": {},
      "outputs": [],
      "source": [
        "ann.compile(optimizer= 'adam', loss= 'mean_squared_error')"
      ]
    },
    {
      "cell_type": "markdown",
      "metadata": {
        "id": "YjVuiybYOo7r",
        "colab_type": "text"
      },
      "source": [
        "### Training the ANN model on the Training set"
      ]
    },
    {
      "cell_type": "code",
      "execution_count": 9,
      "metadata": {},
      "outputs": [
        {
          "output_type": "stream",
          "name": "stdout",
          "text": [
            "Epoch 1/100\n",
            "225/225 [==============================] - 2s 5ms/step - loss: 707.2255\n",
            "Epoch 2/100\n",
            "225/225 [==============================] - 1s 3ms/step - loss: 281.9399\n",
            "Epoch 3/100\n",
            "225/225 [==============================] - 1s 2ms/step - loss: 234.0884\n",
            "Epoch 4/100\n",
            "225/225 [==============================] - 0s 2ms/step - loss: 189.0125\n",
            "Epoch 5/100\n",
            "225/225 [==============================] - 0s 2ms/step - loss: 149.2901\n",
            "Epoch 6/100\n",
            "225/225 [==============================] - 1s 2ms/step - loss: 115.3607\n",
            "Epoch 7/100\n",
            "225/225 [==============================] - 1s 3ms/step - loss: 88.7383\n",
            "Epoch 8/100\n",
            "225/225 [==============================] - 0s 2ms/step - loss: 68.2485\n",
            "Epoch 9/100\n",
            "225/225 [==============================] - 1s 3ms/step - loss: 53.3452\n",
            "Epoch 10/100\n",
            "225/225 [==============================] - 0s 2ms/step - loss: 43.4141\n",
            "Epoch 11/100\n",
            "225/225 [==============================] - 1s 3ms/step - loss: 37.5955\n",
            "Epoch 12/100\n",
            "225/225 [==============================] - 1s 2ms/step - loss: 33.4404\n",
            "Epoch 13/100\n",
            "225/225 [==============================] - 1s 3ms/step - loss: 31.4509\n",
            "Epoch 14/100\n",
            "225/225 [==============================] - 1s 2ms/step - loss: 29.8025\n",
            "Epoch 15/100\n",
            "225/225 [==============================] - 1s 2ms/step - loss: 28.7044\n",
            "Epoch 16/100\n",
            "225/225 [==============================] - 1s 3ms/step - loss: 28.4063\n",
            "Epoch 17/100\n",
            "225/225 [==============================] - 1s 2ms/step - loss: 27.9268\n",
            "Epoch 18/100\n",
            "225/225 [==============================] - 1s 2ms/step - loss: 28.6030\n",
            "Epoch 19/100\n",
            "225/225 [==============================] - 1s 2ms/step - loss: 28.0764\n",
            "Epoch 20/100\n",
            "225/225 [==============================] - 1s 4ms/step - loss: 27.5530\n",
            "Epoch 21/100\n",
            "225/225 [==============================] - 1s 4ms/step - loss: 27.4266\n",
            "Epoch 22/100\n",
            "225/225 [==============================] - 1s 3ms/step - loss: 27.4832\n",
            "Epoch 23/100\n",
            "225/225 [==============================] - 1s 3ms/step - loss: 27.4421\n",
            "Epoch 24/100\n",
            "225/225 [==============================] - 1s 3ms/step - loss: 27.4368\n",
            "Epoch 25/100\n",
            "225/225 [==============================] - 1s 3ms/step - loss: 28.0683\n",
            "Epoch 26/100\n",
            "225/225 [==============================] - 0s 2ms/step - loss: 27.5367\n",
            "Epoch 27/100\n",
            "225/225 [==============================] - 1s 3ms/step - loss: 27.5285\n",
            "Epoch 28/100\n",
            "225/225 [==============================] - 1s 4ms/step - loss: 27.2101\n",
            "Epoch 29/100\n",
            "225/225 [==============================] - 0s 2ms/step - loss: 27.1648\n",
            "Epoch 30/100\n",
            "225/225 [==============================] - 0s 2ms/step - loss: 27.2234\n",
            "Epoch 31/100\n",
            "225/225 [==============================] - 0s 2ms/step - loss: 26.9339\n",
            "Epoch 32/100\n",
            "225/225 [==============================] - 0s 2ms/step - loss: 27.2094\n",
            "Epoch 33/100\n",
            "225/225 [==============================] - 0s 2ms/step - loss: 27.3062\n",
            "Epoch 34/100\n",
            "225/225 [==============================] - 0s 2ms/step - loss: 27.6114\n",
            "Epoch 35/100\n",
            "225/225 [==============================] - 0s 2ms/step - loss: 27.1215\n",
            "Epoch 36/100\n",
            "225/225 [==============================] - 0s 2ms/step - loss: 27.3755\n",
            "Epoch 37/100\n",
            "225/225 [==============================] - 0s 2ms/step - loss: 27.3804\n",
            "Epoch 38/100\n",
            "225/225 [==============================] - 0s 2ms/step - loss: 26.8219\n",
            "Epoch 39/100\n",
            "225/225 [==============================] - 0s 2ms/step - loss: 26.7727\n",
            "Epoch 40/100\n",
            "225/225 [==============================] - 0s 2ms/step - loss: 26.8503\n",
            "Epoch 41/100\n",
            "225/225 [==============================] - 0s 2ms/step - loss: 26.8767\n",
            "Epoch 42/100\n",
            "225/225 [==============================] - 1s 2ms/step - loss: 26.8980\n",
            "Epoch 43/100\n",
            "225/225 [==============================] - 0s 2ms/step - loss: 27.2788\n",
            "Epoch 44/100\n",
            "225/225 [==============================] - 0s 2ms/step - loss: 26.9500\n",
            "Epoch 45/100\n",
            "225/225 [==============================] - 0s 2ms/step - loss: 26.5707\n",
            "Epoch 46/100\n",
            "225/225 [==============================] - 0s 2ms/step - loss: 26.6286\n",
            "Epoch 47/100\n",
            "225/225 [==============================] - 0s 2ms/step - loss: 27.2788\n",
            "Epoch 48/100\n",
            "225/225 [==============================] - 1s 2ms/step - loss: 27.2456\n",
            "Epoch 49/100\n",
            "225/225 [==============================] - 0s 2ms/step - loss: 26.8345\n",
            "Epoch 50/100\n",
            "225/225 [==============================] - 0s 2ms/step - loss: 26.7510\n",
            "Epoch 51/100\n",
            "225/225 [==============================] - 0s 2ms/step - loss: 26.5268\n",
            "Epoch 52/100\n",
            "225/225 [==============================] - 0s 2ms/step - loss: 26.9705\n",
            "Epoch 53/100\n",
            "225/225 [==============================] - 0s 2ms/step - loss: 27.3727\n",
            "Epoch 54/100\n",
            "225/225 [==============================] - 0s 2ms/step - loss: 26.6073\n",
            "Epoch 55/100\n",
            "225/225 [==============================] - 0s 2ms/step - loss: 28.1738\n",
            "Epoch 56/100\n",
            "225/225 [==============================] - 0s 2ms/step - loss: 26.6528\n",
            "Epoch 57/100\n",
            "225/225 [==============================] - 0s 1ms/step - loss: 26.3710\n",
            "Epoch 58/100\n",
            "225/225 [==============================] - 0s 2ms/step - loss: 26.7635\n",
            "Epoch 59/100\n",
            "225/225 [==============================] - 0s 2ms/step - loss: 26.4633\n",
            "Epoch 60/100\n",
            "225/225 [==============================] - 1s 3ms/step - loss: 27.2249\n",
            "Epoch 61/100\n",
            "225/225 [==============================] - 1s 3ms/step - loss: 26.9207\n",
            "Epoch 62/100\n",
            "225/225 [==============================] - 1s 2ms/step - loss: 26.3498\n",
            "Epoch 63/100\n",
            "225/225 [==============================] - 0s 2ms/step - loss: 27.5396\n",
            "Epoch 64/100\n",
            "225/225 [==============================] - 0s 2ms/step - loss: 26.5275\n",
            "Epoch 65/100\n",
            "225/225 [==============================] - 1s 3ms/step - loss: 27.5902\n",
            "Epoch 66/100\n",
            "225/225 [==============================] - 1s 3ms/step - loss: 26.4667\n",
            "Epoch 67/100\n",
            "225/225 [==============================] - 1s 3ms/step - loss: 26.9277\n",
            "Epoch 68/100\n",
            "225/225 [==============================] - 1s 2ms/step - loss: 27.0788\n",
            "Epoch 69/100\n",
            "225/225 [==============================] - 1s 2ms/step - loss: 26.9435\n",
            "Epoch 70/100\n",
            "225/225 [==============================] - 1s 2ms/step - loss: 27.1148\n",
            "Epoch 71/100\n",
            "225/225 [==============================] - 1s 2ms/step - loss: 26.5736\n",
            "Epoch 72/100\n",
            "225/225 [==============================] - 1s 2ms/step - loss: 26.9213\n",
            "Epoch 73/100\n",
            "225/225 [==============================] - 1s 3ms/step - loss: 27.0103\n",
            "Epoch 74/100\n",
            "225/225 [==============================] - 1s 2ms/step - loss: 26.9055\n",
            "Epoch 75/100\n",
            "225/225 [==============================] - 0s 2ms/step - loss: 26.7841\n",
            "Epoch 76/100\n",
            "225/225 [==============================] - 1s 3ms/step - loss: 26.5015\n",
            "Epoch 77/100\n",
            "225/225 [==============================] - 1s 3ms/step - loss: 26.8238\n",
            "Epoch 78/100\n",
            "225/225 [==============================] - 0s 2ms/step - loss: 27.0251\n",
            "Epoch 79/100\n",
            "225/225 [==============================] - 1s 2ms/step - loss: 26.9967\n",
            "Epoch 80/100\n",
            "225/225 [==============================] - 1s 2ms/step - loss: 26.4160\n",
            "Epoch 81/100\n",
            "225/225 [==============================] - 0s 2ms/step - loss: 26.7800\n",
            "Epoch 82/100\n",
            "225/225 [==============================] - 0s 2ms/step - loss: 26.8242\n",
            "Epoch 83/100\n",
            "225/225 [==============================] - 1s 2ms/step - loss: 26.7248\n",
            "Epoch 84/100\n",
            "225/225 [==============================] - 0s 2ms/step - loss: 26.4798\n",
            "Epoch 85/100\n",
            "225/225 [==============================] - 0s 2ms/step - loss: 27.2736\n",
            "Epoch 86/100\n",
            "225/225 [==============================] - 1s 2ms/step - loss: 26.8200\n",
            "Epoch 87/100\n",
            "225/225 [==============================] - 0s 2ms/step - loss: 26.7930\n",
            "Epoch 88/100\n",
            "225/225 [==============================] - 1s 2ms/step - loss: 26.6774\n",
            "Epoch 89/100\n",
            "225/225 [==============================] - 1s 3ms/step - loss: 26.8970\n",
            "Epoch 90/100\n",
            "225/225 [==============================] - 0s 2ms/step - loss: 27.2563\n",
            "Epoch 91/100\n",
            "225/225 [==============================] - 1s 2ms/step - loss: 27.2455\n",
            "Epoch 92/100\n",
            "225/225 [==============================] - 0s 2ms/step - loss: 26.8411\n",
            "Epoch 93/100\n",
            "225/225 [==============================] - 1s 2ms/step - loss: 26.7016\n",
            "Epoch 94/100\n",
            "225/225 [==============================] - 0s 2ms/step - loss: 27.4626\n",
            "Epoch 95/100\n",
            "225/225 [==============================] - 1s 2ms/step - loss: 27.5467\n",
            "Epoch 96/100\n",
            "225/225 [==============================] - 1s 2ms/step - loss: 26.7554\n",
            "Epoch 97/100\n",
            "225/225 [==============================] - 1s 4ms/step - loss: 26.6260\n",
            "Epoch 98/100\n",
            "225/225 [==============================] - 1s 3ms/step - loss: 26.4536\n",
            "Epoch 99/100\n",
            "225/225 [==============================] - 0s 2ms/step - loss: 27.7075\n",
            "Epoch 100/100\n",
            "225/225 [==============================] - 0s 2ms/step - loss: 26.6085\n"
          ]
        },
        {
          "output_type": "execute_result",
          "data": {
            "text/plain": [
              "<tensorflow.python.keras.callbacks.History at 0x246ffd7ea30>"
            ]
          },
          "metadata": {},
          "execution_count": 9
        }
      ],
      "source": [
        "ann.fit(X_train, y_train, batch_size = 32, epochs = 100)"
      ]
    },
    {
      "cell_type": "markdown",
      "metadata": {
        "id": "0H0zKKNEBLD5",
        "colab_type": "text"
      },
      "source": [
        "### Predicting the results of the Test set"
      ]
    },
    {
      "cell_type": "code",
      "execution_count": 10,
      "metadata": {},
      "outputs": [
        {
          "output_type": "stream",
          "name": "stdout",
          "text": [
            "[[429.82901001 431.23      ]\n [460.86068726 460.01      ]\n [464.37875366 461.14      ]\n ...\n [470.72796631 468.9       ]\n [474.96066284 473.9       ]\n [439.43078613 437.07      ]]\n"
          ]
        }
      ],
      "source": [
        "y_pred = ann.predict(X_test)\n",
        "print(np.concatenate((y_pred.reshape(len(y_pred),1),y_test.reshape(len(y_test),1)),1))"
      ]
    },
    {
      "cell_type": "code",
      "execution_count": 11,
      "metadata": {},
      "outputs": [
        {
          "output_type": "execute_result",
          "data": {
            "text/plain": [
              "0.90728457931621"
            ]
          },
          "metadata": {},
          "execution_count": 11
        }
      ],
      "source": [
        "from sklearn.metrics import r2_score\n",
        "r2_score(y_test, y_pred)"
      ]
    }
  ]
}