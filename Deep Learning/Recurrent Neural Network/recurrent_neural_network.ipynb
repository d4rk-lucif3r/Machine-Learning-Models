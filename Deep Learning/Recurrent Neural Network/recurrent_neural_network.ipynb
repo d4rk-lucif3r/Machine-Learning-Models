{
 "cells": [
  {
   "cell_type": "markdown",
   "source": [
    "# Recurrent Neural Networks"
   ],
   "metadata": {}
  },
  {
   "cell_type": "markdown",
   "source": [
    "# Part 1 - Data Preprocessing"
   ],
   "metadata": {}
  },
  {
   "cell_type": "markdown",
   "source": [
    "## Importing Libraries\r\n"
   ],
   "metadata": {}
  },
  {
   "cell_type": "code",
   "execution_count": null,
   "source": [
    "import numpy as np\r\n",
    "import matplotlib.pyplot as plt\r\n",
    "import pandas as pd"
   ],
   "outputs": [],
   "metadata": {}
  },
  {
   "cell_type": "markdown",
   "source": [
    "## Importing the training set\r\n"
   ],
   "metadata": {}
  },
  {
   "cell_type": "code",
   "execution_count": null,
   "source": [
    "dataset_train = pd.read_csv('Google_Stock_Price_Train.csv')\r\n"
   ],
   "outputs": [],
   "metadata": {}
  },
  {
   "cell_type": "code",
   "execution_count": null,
   "source": [
    "dataset_train.head()"
   ],
   "outputs": [
    {
     "output_type": "execute_result",
     "data": {
      "text/plain": [
       "       Date    Open    High     Low   Close      Volume\n",
       "0  1/3/2012  325.25  332.83  324.97  663.59   7,380,500\n",
       "1  1/4/2012  331.27  333.87  329.08  666.45   5,749,400\n",
       "2  1/5/2012  329.83  330.75  326.89  657.21   6,590,300\n",
       "3  1/6/2012  328.34  328.77  323.68  648.24   5,405,900\n",
       "4  1/9/2012  322.04  322.29  309.46  620.76  11,688,800"
      ],
      "text/html": [
       "<div>\n",
       "<style scoped>\n",
       "    .dataframe tbody tr th:only-of-type {\n",
       "        vertical-align: middle;\n",
       "    }\n",
       "\n",
       "    .dataframe tbody tr th {\n",
       "        vertical-align: top;\n",
       "    }\n",
       "\n",
       "    .dataframe thead th {\n",
       "        text-align: right;\n",
       "    }\n",
       "</style>\n",
       "<table border=\"1\" class=\"dataframe\">\n",
       "  <thead>\n",
       "    <tr style=\"text-align: right;\">\n",
       "      <th></th>\n",
       "      <th>Date</th>\n",
       "      <th>Open</th>\n",
       "      <th>High</th>\n",
       "      <th>Low</th>\n",
       "      <th>Close</th>\n",
       "      <th>Volume</th>\n",
       "    </tr>\n",
       "  </thead>\n",
       "  <tbody>\n",
       "    <tr>\n",
       "      <th>0</th>\n",
       "      <td>1/3/2012</td>\n",
       "      <td>325.25</td>\n",
       "      <td>332.83</td>\n",
       "      <td>324.97</td>\n",
       "      <td>663.59</td>\n",
       "      <td>7,380,500</td>\n",
       "    </tr>\n",
       "    <tr>\n",
       "      <th>1</th>\n",
       "      <td>1/4/2012</td>\n",
       "      <td>331.27</td>\n",
       "      <td>333.87</td>\n",
       "      <td>329.08</td>\n",
       "      <td>666.45</td>\n",
       "      <td>5,749,400</td>\n",
       "    </tr>\n",
       "    <tr>\n",
       "      <th>2</th>\n",
       "      <td>1/5/2012</td>\n",
       "      <td>329.83</td>\n",
       "      <td>330.75</td>\n",
       "      <td>326.89</td>\n",
       "      <td>657.21</td>\n",
       "      <td>6,590,300</td>\n",
       "    </tr>\n",
       "    <tr>\n",
       "      <th>3</th>\n",
       "      <td>1/6/2012</td>\n",
       "      <td>328.34</td>\n",
       "      <td>328.77</td>\n",
       "      <td>323.68</td>\n",
       "      <td>648.24</td>\n",
       "      <td>5,405,900</td>\n",
       "    </tr>\n",
       "    <tr>\n",
       "      <th>4</th>\n",
       "      <td>1/9/2012</td>\n",
       "      <td>322.04</td>\n",
       "      <td>322.29</td>\n",
       "      <td>309.46</td>\n",
       "      <td>620.76</td>\n",
       "      <td>11,688,800</td>\n",
       "    </tr>\n",
       "  </tbody>\n",
       "</table>\n",
       "</div>"
      ]
     },
     "metadata": {},
     "execution_count": 5
    }
   ],
   "metadata": {}
  },
  {
   "cell_type": "code",
   "execution_count": 10,
   "source": [
    "training_set = dataset_train.iloc[:, 1:2].values\r\n",
    "training_set"
   ],
   "outputs": [
    {
     "output_type": "execute_result",
     "data": {
      "text/plain": [
       "array([[325.25],\n",
       "       [331.27],\n",
       "       [329.83],\n",
       "       ...,\n",
       "       [793.7 ],\n",
       "       [783.33],\n",
       "       [782.75]])"
      ]
     },
     "metadata": {},
     "execution_count": 10
    }
   ],
   "metadata": {}
  },
  {
   "cell_type": "markdown",
   "source": [
    "## Feature Scaling\r\n"
   ],
   "metadata": {}
  },
  {
   "cell_type": "code",
   "execution_count": 11,
   "source": [
    "from sklearn.preprocessing import MinMaxScaler\r\n",
    "sc = MinMaxScaler(feature_range=(0, 1))\r\n",
    "training_set_scaled = sc.fit_transform(training_set)\r\n"
   ],
   "outputs": [],
   "metadata": {}
  },
  {
   "cell_type": "code",
   "execution_count": 20,
   "source": [
    "len(training_set_scaled)    \r\n"
   ],
   "outputs": [
    {
     "output_type": "execute_result",
     "data": {
      "text/plain": [
       "1258"
      ]
     },
     "metadata": {},
     "execution_count": 20
    }
   ],
   "metadata": {}
  },
  {
   "cell_type": "markdown",
   "source": [
    "## Creating a data structure with 60 timesteps and 1 output\r\n"
   ],
   "metadata": {}
  },
  {
   "cell_type": "code",
   "execution_count": 26,
   "source": [
    "timesteps = 60 # how many time steps to look back \r\n",
    "X_train = []\r\n",
    "y_train = []\r\n",
    "for i in range(timesteps, len(training_set_scaled)):\r\n",
    "    X_train.append(training_set_scaled[i-timesteps:i, 0])\r\n",
    "    y_train.append(training_set_scaled[i, 0])\r\n",
    "X_train, y_train = np.array(X_train), np.array(y_train)\r\n"
   ],
   "outputs": [],
   "metadata": {}
  },
  {
   "cell_type": "code",
   "execution_count": 27,
   "source": [
    "X_train.shape, y_train.shape"
   ],
   "outputs": [
    {
     "output_type": "execute_result",
     "data": {
      "text/plain": [
       "((1198, 60), (1198,))"
      ]
     },
     "metadata": {},
     "execution_count": 27
    }
   ],
   "metadata": {}
  },
  {
   "cell_type": "markdown",
   "source": [
    "## Reshaping"
   ],
   "metadata": {}
  },
  {
   "cell_type": "code",
   "execution_count": 28,
   "source": [
    "X_train = np.reshape(X_train, (X_train.shape[0], X_train.shape[1], 1))\r\n"
   ],
   "outputs": [],
   "metadata": {}
  },
  {
   "cell_type": "code",
   "execution_count": 29,
   "source": [
    "X_train.shape, y_train.shape"
   ],
   "outputs": [
    {
     "output_type": "execute_result",
     "data": {
      "text/plain": [
       "((1198, 60, 1), (1198,))"
      ]
     },
     "metadata": {},
     "execution_count": 29
    }
   ],
   "metadata": {}
  },
  {
   "cell_type": "markdown",
   "source": [
    "# Part 2 - Building the RNN"
   ],
   "metadata": {}
  },
  {
   "cell_type": "markdown",
   "source": [
    "## Importing the Keras libraries and packages"
   ],
   "metadata": {}
  },
  {
   "cell_type": "code",
   "execution_count": 30,
   "source": [
    "from keras.models import Sequential\r\n",
    "from keras.layers import Dense\r\n",
    "from keras.layers import LSTM\r\n",
    "from keras.layers import Dropout\r\n"
   ],
   "outputs": [],
   "metadata": {}
  },
  {
   "cell_type": "markdown",
   "source": [
    "## Initialising the RNN\r\n"
   ],
   "metadata": {}
  },
  {
   "cell_type": "code",
   "execution_count": 38,
   "source": [
    "regressor = Sequential()"
   ],
   "outputs": [],
   "metadata": {}
  },
  {
   "cell_type": "markdown",
   "source": [
    "## Adding the first LSTM layer and some Dropout regularisation\r\n"
   ],
   "metadata": {}
  },
  {
   "cell_type": "code",
   "execution_count": 39,
   "source": [
    "regressor.add(LSTM(units = 50, return_sequences = True, input_shape = (X_train.shape[1], 1)))\r\n",
    "regressor.add(Dropout(0.2))"
   ],
   "outputs": [],
   "metadata": {}
  },
  {
   "cell_type": "markdown",
   "source": [
    "## Adding a second LSTM layer and some Dropout regularisation\r\n"
   ],
   "metadata": {}
  },
  {
   "cell_type": "code",
   "execution_count": 40,
   "source": [
    "regressor.add(LSTM(units = 50, return_sequences = True))\r\n",
    "regressor.add(Dropout(0.2))\r\n"
   ],
   "outputs": [],
   "metadata": {}
  },
  {
   "cell_type": "markdown",
   "source": [
    "## Adding a third LSTM layer and some Dropout regularisation\r\n"
   ],
   "metadata": {}
  },
  {
   "cell_type": "code",
   "execution_count": 41,
   "source": [
    "regressor.add(LSTM(units=50, return_sequences=True))\r\n",
    "regressor.add(Dropout(0.2))\r\n"
   ],
   "outputs": [],
   "metadata": {}
  },
  {
   "cell_type": "markdown",
   "source": [
    "## Adding a fourth LSTM layer and some Dropout regularisation\r\n"
   ],
   "metadata": {}
  },
  {
   "cell_type": "code",
   "execution_count": 42,
   "source": [
    "regressor.add(LSTM(units = 50))\r\n",
    "regressor.add(Dropout(0.2))"
   ],
   "outputs": [],
   "metadata": {}
  },
  {
   "cell_type": "markdown",
   "source": [
    "## Adding the output layer\r\n"
   ],
   "metadata": {}
  },
  {
   "cell_type": "code",
   "execution_count": 43,
   "source": [
    "regressor.add(Dense(units=1))"
   ],
   "outputs": [],
   "metadata": {}
  },
  {
   "cell_type": "markdown",
   "source": [
    "## Compiling the RNN\r\n"
   ],
   "metadata": {}
  },
  {
   "cell_type": "code",
   "execution_count": 44,
   "source": [
    "regressor.compile(optimizer='adam', loss='mean_squared_error')\r\n"
   ],
   "outputs": [],
   "metadata": {}
  },
  {
   "cell_type": "markdown",
   "source": [
    "## RNN Summary"
   ],
   "metadata": {}
  },
  {
   "cell_type": "code",
   "execution_count": null,
   "source": [
    "regressor.summary()"
   ],
   "outputs": [],
   "metadata": {}
  },
  {
   "cell_type": "markdown",
   "source": [
    "## Fitting the RNN to the Training set\r\n"
   ],
   "metadata": {}
  },
  {
   "cell_type": "code",
   "execution_count": 46,
   "source": [
    "regressor.fit(X_train, y_train, epochs=100, batch_size=32)\r\n"
   ],
   "outputs": [
    {
     "output_type": "stream",
     "name": "stdout",
     "text": [
      "Epoch 1/100\n",
      "38/38 [==============================] - 63s 242ms/step - loss: 0.0767\n",
      "Epoch 2/100\n",
      "38/38 [==============================] - 9s 225ms/step - loss: 0.0060\n",
      "Epoch 3/100\n",
      "38/38 [==============================] - 6s 167ms/step - loss: 0.0050\n",
      "Epoch 4/100\n",
      "38/38 [==============================] - 6s 161ms/step - loss: 0.0051\n",
      "Epoch 5/100\n",
      "38/38 [==============================] - 6s 162ms/step - loss: 0.0049\n",
      "Epoch 6/100\n",
      "38/38 [==============================] - 7s 183ms/step - loss: 0.0049\n",
      "Epoch 7/100\n",
      "38/38 [==============================] - 7s 179ms/step - loss: 0.0050\n",
      "Epoch 8/100\n",
      "38/38 [==============================] - 7s 172ms/step - loss: 0.0049\n",
      "Epoch 9/100\n",
      "38/38 [==============================] - 6s 167ms/step - loss: 0.0045\n",
      "Epoch 10/100\n",
      "38/38 [==============================] - 5s 139ms/step - loss: 0.0041\n",
      "Epoch 11/100\n",
      "38/38 [==============================] - 6s 171ms/step - loss: 0.0049\n",
      "Epoch 12/100\n",
      "38/38 [==============================] - 8s 211ms/step - loss: 0.0039\n",
      "Epoch 13/100\n",
      "38/38 [==============================] - 6s 169ms/step - loss: 0.0036\n",
      "Epoch 14/100\n",
      "38/38 [==============================] - 6s 168ms/step - loss: 0.0041\n",
      "Epoch 15/100\n",
      "38/38 [==============================] - 6s 161ms/step - loss: 0.0036\n",
      "Epoch 16/100\n",
      "38/38 [==============================] - 6s 161ms/step - loss: 0.0038\n",
      "Epoch 17/100\n",
      "38/38 [==============================] - 6s 168ms/step - loss: 0.0035\n",
      "Epoch 18/100\n",
      "38/38 [==============================] - 7s 174ms/step - loss: 0.0033\n",
      "Epoch 19/100\n",
      "38/38 [==============================] - 7s 173ms/step - loss: 0.0040\n",
      "Epoch 20/100\n",
      "38/38 [==============================] - 5s 125ms/step - loss: 0.0031\n",
      "Epoch 21/100\n",
      "38/38 [==============================] - 5s 139ms/step - loss: 0.0031\n",
      "Epoch 22/100\n",
      "38/38 [==============================] - 6s 171ms/step - loss: 0.0034\n",
      "Epoch 23/100\n",
      "38/38 [==============================] - 6s 165ms/step - loss: 0.0033\n",
      "Epoch 24/100\n",
      "38/38 [==============================] - 7s 183ms/step - loss: 0.0040\n",
      "Epoch 25/100\n",
      "38/38 [==============================] - 6s 159ms/step - loss: 0.0034\n",
      "Epoch 26/100\n",
      "38/38 [==============================] - 5s 141ms/step - loss: 0.0027\n",
      "Epoch 27/100\n",
      "38/38 [==============================] - 6s 151ms/step - loss: 0.0039\n",
      "Epoch 28/100\n",
      "38/38 [==============================] - 6s 151ms/step - loss: 0.0030\n",
      "Epoch 29/100\n",
      "38/38 [==============================] - 7s 177ms/step - loss: 0.0029\n",
      "Epoch 30/100\n",
      "38/38 [==============================] - 7s 186ms/step - loss: 0.0031\n",
      "Epoch 31/100\n",
      "38/38 [==============================] - 7s 170ms/step - loss: 0.0032\n",
      "Epoch 32/100\n",
      "38/38 [==============================] - 6s 154ms/step - loss: 0.0028\n",
      "Epoch 33/100\n",
      "38/38 [==============================] - 6s 150ms/step - loss: 0.0032\n",
      "Epoch 34/100\n",
      "38/38 [==============================] - 6s 157ms/step - loss: 0.0034\n",
      "Epoch 35/100\n",
      "38/38 [==============================] - 6s 145ms/step - loss: 0.0028\n",
      "Epoch 36/100\n",
      "38/38 [==============================] - 7s 177ms/step - loss: 0.0027\n",
      "Epoch 37/100\n",
      "38/38 [==============================] - 8s 197ms/step - loss: 0.0025\n",
      "Epoch 38/100\n",
      "38/38 [==============================] - 6s 153ms/step - loss: 0.0027\n",
      "Epoch 39/100\n",
      "38/38 [==============================] - 6s 154ms/step - loss: 0.0026\n",
      "Epoch 40/100\n",
      "38/38 [==============================] - 7s 172ms/step - loss: 0.0026\n",
      "Epoch 41/100\n",
      "38/38 [==============================] - 7s 172ms/step - loss: 0.0027\n",
      "Epoch 42/100\n",
      "38/38 [==============================] - 6s 149ms/step - loss: 0.0024\n",
      "Epoch 43/100\n",
      "38/38 [==============================] - 6s 164ms/step - loss: 0.0028\n",
      "Epoch 44/100\n",
      "38/38 [==============================] - 6s 159ms/step - loss: 0.0025\n",
      "Epoch 45/100\n",
      "38/38 [==============================] - 6s 167ms/step - loss: 0.0023\n",
      "Epoch 46/100\n",
      "38/38 [==============================] - 6s 165ms/step - loss: 0.0022\n",
      "Epoch 47/100\n",
      "38/38 [==============================] - 7s 171ms/step - loss: 0.0024\n",
      "Epoch 48/100\n",
      "38/38 [==============================] - 7s 182ms/step - loss: 0.0025\n",
      "Epoch 49/100\n",
      "38/38 [==============================] - 7s 197ms/step - loss: 0.0024\n",
      "Epoch 50/100\n",
      "38/38 [==============================] - 6s 159ms/step - loss: 0.0021\n",
      "Epoch 51/100\n",
      "38/38 [==============================] - 7s 181ms/step - loss: 0.0021\n",
      "Epoch 52/100\n",
      "38/38 [==============================] - 8s 217ms/step - loss: 0.0023\n",
      "Epoch 53/100\n",
      "38/38 [==============================] - 8s 220ms/step - loss: 0.0021\n",
      "Epoch 54/100\n",
      "38/38 [==============================] - 6s 163ms/step - loss: 0.0023\n",
      "Epoch 55/100\n",
      "38/38 [==============================] - 6s 159ms/step - loss: 0.0021\n",
      "Epoch 56/100\n",
      "38/38 [==============================] - 6s 156ms/step - loss: 0.0021\n",
      "Epoch 57/100\n",
      "38/38 [==============================] - 6s 164ms/step - loss: 0.0020\n",
      "Epoch 58/100\n",
      "38/38 [==============================] - 6s 150ms/step - loss: 0.0020\n",
      "Epoch 59/100\n",
      "38/38 [==============================] - 6s 150ms/step - loss: 0.0021\n",
      "Epoch 60/100\n",
      "38/38 [==============================] - 7s 189ms/step - loss: 0.0021\n",
      "Epoch 61/100\n",
      "38/38 [==============================] - 7s 177ms/step - loss: 0.0021\n",
      "Epoch 62/100\n",
      "38/38 [==============================] - 6s 159ms/step - loss: 0.0020\n",
      "Epoch 63/100\n",
      "38/38 [==============================] - 7s 176ms/step - loss: 0.0019\n",
      "Epoch 64/100\n",
      "38/38 [==============================] - 9s 249ms/step - loss: 0.0022\n",
      "Epoch 65/100\n",
      "38/38 [==============================] - 7s 187ms/step - loss: 0.0019\n",
      "Epoch 66/100\n",
      "38/38 [==============================] - 6s 168ms/step - loss: 0.0019\n",
      "Epoch 67/100\n",
      "38/38 [==============================] - 8s 218ms/step - loss: 0.0017\n",
      "Epoch 68/100\n",
      "38/38 [==============================] - 7s 174ms/step - loss: 0.0020\n",
      "Epoch 69/100\n",
      "38/38 [==============================] - 7s 176ms/step - loss: 0.0021\n",
      "Epoch 70/100\n",
      "38/38 [==============================] - 7s 182ms/step - loss: 0.0021\n",
      "Epoch 71/100\n",
      "38/38 [==============================] - 7s 180ms/step - loss: 0.0016\n",
      "Epoch 72/100\n",
      "38/38 [==============================] - 7s 190ms/step - loss: 0.0019\n",
      "Epoch 73/100\n",
      "38/38 [==============================] - 7s 188ms/step - loss: 0.0017\n",
      "Epoch 74/100\n",
      "38/38 [==============================] - 7s 194ms/step - loss: 0.0018\n",
      "Epoch 75/100\n",
      "38/38 [==============================] - 8s 211ms/step - loss: 0.0017\n",
      "Epoch 76/100\n",
      "38/38 [==============================] - 7s 187ms/step - loss: 0.0016\n",
      "Epoch 77/100\n",
      "38/38 [==============================] - 7s 176ms/step - loss: 0.0014\n",
      "Epoch 78/100\n",
      "38/38 [==============================] - 8s 216ms/step - loss: 0.0018\n",
      "Epoch 79/100\n",
      "38/38 [==============================] - 6s 158ms/step - loss: 0.0016\n",
      "Epoch 80/100\n",
      "38/38 [==============================] - 6s 160ms/step - loss: 0.0017\n",
      "Epoch 81/100\n",
      "38/38 [==============================] - 6s 168ms/step - loss: 0.0016\n",
      "Epoch 82/100\n",
      "38/38 [==============================] - 6s 163ms/step - loss: 0.0015\n",
      "Epoch 83/100\n",
      "38/38 [==============================] - 6s 169ms/step - loss: 0.0017\n",
      "Epoch 84/100\n",
      "38/38 [==============================] - 6s 152ms/step - loss: 0.0014\n",
      "Epoch 85/100\n",
      "38/38 [==============================] - 6s 159ms/step - loss: 0.0014\n",
      "Epoch 86/100\n",
      "38/38 [==============================] - 8s 208ms/step - loss: 0.0014\n",
      "Epoch 87/100\n",
      "38/38 [==============================] - 9s 229ms/step - loss: 0.0016\n",
      "Epoch 88/100\n",
      "38/38 [==============================] - 10s 254ms/step - loss: 0.0013\n",
      "Epoch 89/100\n",
      "38/38 [==============================] - 6s 165ms/step - loss: 0.0017\n",
      "Epoch 90/100\n",
      "38/38 [==============================] - 7s 188ms/step - loss: 0.0016\n",
      "Epoch 91/100\n",
      "38/38 [==============================] - 8s 217ms/step - loss: 0.0013\n",
      "Epoch 92/100\n",
      "38/38 [==============================] - 8s 199ms/step - loss: 0.0016\n",
      "Epoch 93/100\n",
      "38/38 [==============================] - 7s 185ms/step - loss: 0.0018\n",
      "Epoch 94/100\n",
      "38/38 [==============================] - 7s 184ms/step - loss: 0.0015\n",
      "Epoch 95/100\n",
      "38/38 [==============================] - 7s 191ms/step - loss: 0.0013\n",
      "Epoch 96/100\n",
      "38/38 [==============================] - 6s 159ms/step - loss: 0.0014\n",
      "Epoch 97/100\n",
      "38/38 [==============================] - 6s 167ms/step - loss: 0.0013\n",
      "Epoch 98/100\n",
      "38/38 [==============================] - 7s 196ms/step - loss: 0.0013\n",
      "Epoch 99/100\n",
      "38/38 [==============================] - 7s 189ms/step - loss: 0.0015\n",
      "Epoch 100/100\n",
      "38/38 [==============================] - 8s 218ms/step - loss: 0.0015\n"
     ]
    },
    {
     "output_type": "execute_result",
     "data": {
      "text/plain": [
       "<keras.callbacks.History at 0x21020a2fb50>"
      ]
     },
     "metadata": {},
     "execution_count": 46
    }
   ],
   "metadata": {}
  },
  {
   "cell_type": "markdown",
   "source": [
    "# Part 3 - Making the predictions and visualising the results\r\n"
   ],
   "metadata": {}
  },
  {
   "cell_type": "markdown",
   "source": [
    "## Getting the real stock price of 2017"
   ],
   "metadata": {}
  },
  {
   "cell_type": "code",
   "execution_count": 47,
   "source": [
    "dataset_test = pd.read_csv('Google_Stock_Price_Test.csv')\r\n",
    "real_stock_price = dataset_test.iloc[:, 1:2].values\r\n"
   ],
   "outputs": [],
   "metadata": {}
  },
  {
   "cell_type": "markdown",
   "source": [
    "## Getting the predicted stock price of 2017\r\n"
   ],
   "metadata": {}
  },
  {
   "cell_type": "code",
   "execution_count": 48,
   "source": [
    "dataset_total = pd.concat(\r\n",
    "    (dataset_train['Open'], dataset_test['Open']), axis=0)\r\n",
    "inputs = dataset_total[len(dataset_total) - len(dataset_test) - 60:].values\r\n",
    "inputs = inputs.reshape(-1, 1)\r\n",
    "inputs = sc.transform(inputs)\r\n"
   ],
   "outputs": [],
   "metadata": {}
  },
  {
   "cell_type": "code",
   "execution_count": 49,
   "source": [
    "X_test = []\r\n",
    "for i in range(60, 80):\r\n",
    "    X_test.append(inputs[i-60:i, 0])\r\n",
    "X_test = np.array(X_test)\r\n",
    "X_test = np.reshape(X_test, (X_test.shape[0], X_test.shape[1], 1))\r\n"
   ],
   "outputs": [],
   "metadata": {}
  },
  {
   "cell_type": "code",
   "execution_count": 50,
   "source": [
    "predicted_stock_price = regressor.predict(X_test)\r\n",
    "predicted_stock_price = sc.inverse_transform(predicted_stock_price)\r\n"
   ],
   "outputs": [],
   "metadata": {}
  },
  {
   "cell_type": "code",
   "execution_count": 55,
   "source": [
    "from sklearn.metrics import mean_squared_error\r\n",
    "rmse = mean_squared_error(real_stock_price, predicted_stock_price, squared=False)\r\n",
    "print(rmse)\r\n"
   ],
   "outputs": [
    {
     "output_type": "stream",
     "name": "stdout",
     "text": [
      "19.312561099229537\n"
     ]
    }
   ],
   "metadata": {}
  },
  {
   "cell_type": "markdown",
   "source": [
    "## Visualising the results\r\n"
   ],
   "metadata": {}
  },
  {
   "cell_type": "code",
   "execution_count": 51,
   "source": [
    "plt.plot(real_stock_price, color='red', label='Real Google Stock Price')\r\n",
    "plt.plot(predicted_stock_price, color='blue',\r\n",
    "         label='Predicted Google Stock Price')\r\n",
    "plt.title('Google Stock Price Prediction')\r\n",
    "plt.xlabel('Time')\r\n",
    "plt.ylabel('Google Stock Price')\r\n",
    "plt.legend()\r\n",
    "plt.show()\r\n"
   ],
   "outputs": [
    {
     "output_type": "display_data",
     "data": {
      "text/plain": [
       "<Figure size 432x288 with 1 Axes>"
      ],
      "image/svg+xml": "<?xml version=\"1.0\" encoding=\"utf-8\" standalone=\"no\"?>\r\n<!DOCTYPE svg PUBLIC \"-//W3C//DTD SVG 1.1//EN\"\r\n  \"http://www.w3.org/Graphics/SVG/1.1/DTD/svg11.dtd\">\r\n<svg height=\"277.314375pt\" version=\"1.1\" viewBox=\"0 0 388.965625 277.314375\" width=\"388.965625pt\" xmlns=\"http://www.w3.org/2000/svg\" xmlns:xlink=\"http://www.w3.org/1999/xlink\">\r\n <metadata>\r\n  <rdf:RDF xmlns:cc=\"http://creativecommons.org/ns#\" xmlns:dc=\"http://purl.org/dc/elements/1.1/\" xmlns:rdf=\"http://www.w3.org/1999/02/22-rdf-syntax-ns#\">\r\n   <cc:Work>\r\n    <dc:type rdf:resource=\"http://purl.org/dc/dcmitype/StillImage\"/>\r\n    <dc:date>2021-08-21T17:48:29.390733</dc:date>\r\n    <dc:format>image/svg+xml</dc:format>\r\n    <dc:creator>\r\n     <cc:Agent>\r\n      <dc:title>Matplotlib v3.4.2, https://matplotlib.org/</dc:title>\r\n     </cc:Agent>\r\n    </dc:creator>\r\n   </cc:Work>\r\n  </rdf:RDF>\r\n </metadata>\r\n <defs>\r\n  <style type=\"text/css\">*{stroke-linecap:butt;stroke-linejoin:round;}</style>\r\n </defs>\r\n <g id=\"figure_1\">\r\n  <g id=\"patch_1\">\r\n   <path d=\"M 0 277.314375 \r\nL 388.965625 277.314375 \r\nL 388.965625 0 \r\nL 0 0 \r\nz\r\n\"/>\r\n  </g>\r\n  <g id=\"axes_1\">\r\n   <g id=\"patch_2\">\r\n    <path d=\"M 46.965625 239.758125 \r\nL 381.765625 239.758125 \r\nL 381.765625 22.318125 \r\nL 46.965625 22.318125 \r\nz\r\n\"/>\r\n   </g>\r\n   <g id=\"matplotlib.axis_1\">\r\n    <g id=\"xtick_1\">\r\n     <g id=\"line2d_1\">\r\n      <defs>\r\n       <path d=\"M 0 0 \r\nL 0 3.5 \r\n\" id=\"ma0e2f5a75e\" style=\"stroke:#ffffff;stroke-width:0.8;\"/>\r\n      </defs>\r\n      <g>\r\n       <use style=\"fill:#ffffff;stroke:#ffffff;stroke-width:0.8;\" x=\"62.183807\" xlink:href=\"#ma0e2f5a75e\" y=\"239.758125\"/>\r\n      </g>\r\n     </g>\r\n     <g id=\"text_1\">\r\n      <!-- 0.0 -->\r\n      <g style=\"fill:#ffffff;\" transform=\"translate(54.232244 254.356562)scale(0.1 -0.1)\">\r\n       <defs>\r\n        <path d=\"M 2034 4250 \r\nQ 1547 4250 1301 3770 \r\nQ 1056 3291 1056 2328 \r\nQ 1056 1369 1301 889 \r\nQ 1547 409 2034 409 \r\nQ 2525 409 2770 889 \r\nQ 3016 1369 3016 2328 \r\nQ 3016 3291 2770 3770 \r\nQ 2525 4250 2034 4250 \r\nz\r\nM 2034 4750 \r\nQ 2819 4750 3233 4129 \r\nQ 3647 3509 3647 2328 \r\nQ 3647 1150 3233 529 \r\nQ 2819 -91 2034 -91 \r\nQ 1250 -91 836 529 \r\nQ 422 1150 422 2328 \r\nQ 422 3509 836 4129 \r\nQ 1250 4750 2034 4750 \r\nz\r\n\" id=\"DejaVuSans-30\" transform=\"scale(0.015625)\"/>\r\n        <path d=\"M 684 794 \r\nL 1344 794 \r\nL 1344 0 \r\nL 684 0 \r\nL 684 794 \r\nz\r\n\" id=\"DejaVuSans-2e\" transform=\"scale(0.015625)\"/>\r\n       </defs>\r\n       <use xlink:href=\"#DejaVuSans-30\"/>\r\n       <use x=\"63.623047\" xlink:href=\"#DejaVuSans-2e\"/>\r\n       <use x=\"95.410156\" xlink:href=\"#DejaVuSans-30\"/>\r\n      </g>\r\n     </g>\r\n    </g>\r\n    <g id=\"xtick_2\">\r\n     <g id=\"line2d_2\">\r\n      <g>\r\n       <use style=\"fill:#ffffff;stroke:#ffffff;stroke-width:0.8;\" x=\"102.231654\" xlink:href=\"#ma0e2f5a75e\" y=\"239.758125\"/>\r\n      </g>\r\n     </g>\r\n     <g id=\"text_2\">\r\n      <!-- 2.5 -->\r\n      <g style=\"fill:#ffffff;\" transform=\"translate(94.280091 254.356562)scale(0.1 -0.1)\">\r\n       <defs>\r\n        <path d=\"M 1228 531 \r\nL 3431 531 \r\nL 3431 0 \r\nL 469 0 \r\nL 469 531 \r\nQ 828 903 1448 1529 \r\nQ 2069 2156 2228 2338 \r\nQ 2531 2678 2651 2914 \r\nQ 2772 3150 2772 3378 \r\nQ 2772 3750 2511 3984 \r\nQ 2250 4219 1831 4219 \r\nQ 1534 4219 1204 4116 \r\nQ 875 4013 500 3803 \r\nL 500 4441 \r\nQ 881 4594 1212 4672 \r\nQ 1544 4750 1819 4750 \r\nQ 2544 4750 2975 4387 \r\nQ 3406 4025 3406 3419 \r\nQ 3406 3131 3298 2873 \r\nQ 3191 2616 2906 2266 \r\nQ 2828 2175 2409 1742 \r\nQ 1991 1309 1228 531 \r\nz\r\n\" id=\"DejaVuSans-32\" transform=\"scale(0.015625)\"/>\r\n        <path d=\"M 691 4666 \r\nL 3169 4666 \r\nL 3169 4134 \r\nL 1269 4134 \r\nL 1269 2991 \r\nQ 1406 3038 1543 3061 \r\nQ 1681 3084 1819 3084 \r\nQ 2600 3084 3056 2656 \r\nQ 3513 2228 3513 1497 \r\nQ 3513 744 3044 326 \r\nQ 2575 -91 1722 -91 \r\nQ 1428 -91 1123 -41 \r\nQ 819 9 494 109 \r\nL 494 744 \r\nQ 775 591 1075 516 \r\nQ 1375 441 1709 441 \r\nQ 2250 441 2565 725 \r\nQ 2881 1009 2881 1497 \r\nQ 2881 1984 2565 2268 \r\nQ 2250 2553 1709 2553 \r\nQ 1456 2553 1204 2497 \r\nQ 953 2441 691 2322 \r\nL 691 4666 \r\nz\r\n\" id=\"DejaVuSans-35\" transform=\"scale(0.015625)\"/>\r\n       </defs>\r\n       <use xlink:href=\"#DejaVuSans-32\"/>\r\n       <use x=\"63.623047\" xlink:href=\"#DejaVuSans-2e\"/>\r\n       <use x=\"95.410156\" xlink:href=\"#DejaVuSans-35\"/>\r\n      </g>\r\n     </g>\r\n    </g>\r\n    <g id=\"xtick_3\">\r\n     <g id=\"line2d_3\">\r\n      <g>\r\n       <use style=\"fill:#ffffff;stroke:#ffffff;stroke-width:0.8;\" x=\"142.279501\" xlink:href=\"#ma0e2f5a75e\" y=\"239.758125\"/>\r\n      </g>\r\n     </g>\r\n     <g id=\"text_3\">\r\n      <!-- 5.0 -->\r\n      <g style=\"fill:#ffffff;\" transform=\"translate(134.327938 254.356562)scale(0.1 -0.1)\">\r\n       <use xlink:href=\"#DejaVuSans-35\"/>\r\n       <use x=\"63.623047\" xlink:href=\"#DejaVuSans-2e\"/>\r\n       <use x=\"95.410156\" xlink:href=\"#DejaVuSans-30\"/>\r\n      </g>\r\n     </g>\r\n    </g>\r\n    <g id=\"xtick_4\">\r\n     <g id=\"line2d_4\">\r\n      <g>\r\n       <use style=\"fill:#ffffff;stroke:#ffffff;stroke-width:0.8;\" x=\"182.327347\" xlink:href=\"#ma0e2f5a75e\" y=\"239.758125\"/>\r\n      </g>\r\n     </g>\r\n     <g id=\"text_4\">\r\n      <!-- 7.5 -->\r\n      <g style=\"fill:#ffffff;\" transform=\"translate(174.375785 254.356562)scale(0.1 -0.1)\">\r\n       <defs>\r\n        <path d=\"M 525 4666 \r\nL 3525 4666 \r\nL 3525 4397 \r\nL 1831 0 \r\nL 1172 0 \r\nL 2766 4134 \r\nL 525 4134 \r\nL 525 4666 \r\nz\r\n\" id=\"DejaVuSans-37\" transform=\"scale(0.015625)\"/>\r\n       </defs>\r\n       <use xlink:href=\"#DejaVuSans-37\"/>\r\n       <use x=\"63.623047\" xlink:href=\"#DejaVuSans-2e\"/>\r\n       <use x=\"95.410156\" xlink:href=\"#DejaVuSans-35\"/>\r\n      </g>\r\n     </g>\r\n    </g>\r\n    <g id=\"xtick_5\">\r\n     <g id=\"line2d_5\">\r\n      <g>\r\n       <use style=\"fill:#ffffff;stroke:#ffffff;stroke-width:0.8;\" x=\"222.375194\" xlink:href=\"#ma0e2f5a75e\" y=\"239.758125\"/>\r\n      </g>\r\n     </g>\r\n     <g id=\"text_5\">\r\n      <!-- 10.0 -->\r\n      <g style=\"fill:#ffffff;\" transform=\"translate(211.242382 254.356562)scale(0.1 -0.1)\">\r\n       <defs>\r\n        <path d=\"M 794 531 \r\nL 1825 531 \r\nL 1825 4091 \r\nL 703 3866 \r\nL 703 4441 \r\nL 1819 4666 \r\nL 2450 4666 \r\nL 2450 531 \r\nL 3481 531 \r\nL 3481 0 \r\nL 794 0 \r\nL 794 531 \r\nz\r\n\" id=\"DejaVuSans-31\" transform=\"scale(0.015625)\"/>\r\n       </defs>\r\n       <use xlink:href=\"#DejaVuSans-31\"/>\r\n       <use x=\"63.623047\" xlink:href=\"#DejaVuSans-30\"/>\r\n       <use x=\"127.246094\" xlink:href=\"#DejaVuSans-2e\"/>\r\n       <use x=\"159.033203\" xlink:href=\"#DejaVuSans-30\"/>\r\n      </g>\r\n     </g>\r\n    </g>\r\n    <g id=\"xtick_6\">\r\n     <g id=\"line2d_6\">\r\n      <g>\r\n       <use style=\"fill:#ffffff;stroke:#ffffff;stroke-width:0.8;\" x=\"262.423041\" xlink:href=\"#ma0e2f5a75e\" y=\"239.758125\"/>\r\n      </g>\r\n     </g>\r\n     <g id=\"text_6\">\r\n      <!-- 12.5 -->\r\n      <g style=\"fill:#ffffff;\" transform=\"translate(251.290229 254.356562)scale(0.1 -0.1)\">\r\n       <use xlink:href=\"#DejaVuSans-31\"/>\r\n       <use x=\"63.623047\" xlink:href=\"#DejaVuSans-32\"/>\r\n       <use x=\"127.246094\" xlink:href=\"#DejaVuSans-2e\"/>\r\n       <use x=\"159.033203\" xlink:href=\"#DejaVuSans-35\"/>\r\n      </g>\r\n     </g>\r\n    </g>\r\n    <g id=\"xtick_7\">\r\n     <g id=\"line2d_7\">\r\n      <g>\r\n       <use style=\"fill:#ffffff;stroke:#ffffff;stroke-width:0.8;\" x=\"302.470888\" xlink:href=\"#ma0e2f5a75e\" y=\"239.758125\"/>\r\n      </g>\r\n     </g>\r\n     <g id=\"text_7\">\r\n      <!-- 15.0 -->\r\n      <g style=\"fill:#ffffff;\" transform=\"translate(291.338076 254.356562)scale(0.1 -0.1)\">\r\n       <use xlink:href=\"#DejaVuSans-31\"/>\r\n       <use x=\"63.623047\" xlink:href=\"#DejaVuSans-35\"/>\r\n       <use x=\"127.246094\" xlink:href=\"#DejaVuSans-2e\"/>\r\n       <use x=\"159.033203\" xlink:href=\"#DejaVuSans-30\"/>\r\n      </g>\r\n     </g>\r\n    </g>\r\n    <g id=\"xtick_8\">\r\n     <g id=\"line2d_8\">\r\n      <g>\r\n       <use style=\"fill:#ffffff;stroke:#ffffff;stroke-width:0.8;\" x=\"342.518735\" xlink:href=\"#ma0e2f5a75e\" y=\"239.758125\"/>\r\n      </g>\r\n     </g>\r\n     <g id=\"text_8\">\r\n      <!-- 17.5 -->\r\n      <g style=\"fill:#ffffff;\" transform=\"translate(331.385923 254.356562)scale(0.1 -0.1)\">\r\n       <use xlink:href=\"#DejaVuSans-31\"/>\r\n       <use x=\"63.623047\" xlink:href=\"#DejaVuSans-37\"/>\r\n       <use x=\"127.246094\" xlink:href=\"#DejaVuSans-2e\"/>\r\n       <use x=\"159.033203\" xlink:href=\"#DejaVuSans-35\"/>\r\n      </g>\r\n     </g>\r\n    </g>\r\n    <g id=\"text_9\">\r\n     <!-- Time -->\r\n     <g style=\"fill:#ffffff;\" transform=\"translate(202.132031 268.034687)scale(0.1 -0.1)\">\r\n      <defs>\r\n       <path d=\"M -19 4666 \r\nL 3928 4666 \r\nL 3928 4134 \r\nL 2272 4134 \r\nL 2272 0 \r\nL 1638 0 \r\nL 1638 4134 \r\nL -19 4134 \r\nL -19 4666 \r\nz\r\n\" id=\"DejaVuSans-54\" transform=\"scale(0.015625)\"/>\r\n       <path d=\"M 603 3500 \r\nL 1178 3500 \r\nL 1178 0 \r\nL 603 0 \r\nL 603 3500 \r\nz\r\nM 603 4863 \r\nL 1178 4863 \r\nL 1178 4134 \r\nL 603 4134 \r\nL 603 4863 \r\nz\r\n\" id=\"DejaVuSans-69\" transform=\"scale(0.015625)\"/>\r\n       <path d=\"M 3328 2828 \r\nQ 3544 3216 3844 3400 \r\nQ 4144 3584 4550 3584 \r\nQ 5097 3584 5394 3201 \r\nQ 5691 2819 5691 2113 \r\nL 5691 0 \r\nL 5113 0 \r\nL 5113 2094 \r\nQ 5113 2597 4934 2840 \r\nQ 4756 3084 4391 3084 \r\nQ 3944 3084 3684 2787 \r\nQ 3425 2491 3425 1978 \r\nL 3425 0 \r\nL 2847 0 \r\nL 2847 2094 \r\nQ 2847 2600 2669 2842 \r\nQ 2491 3084 2119 3084 \r\nQ 1678 3084 1418 2786 \r\nQ 1159 2488 1159 1978 \r\nL 1159 0 \r\nL 581 0 \r\nL 581 3500 \r\nL 1159 3500 \r\nL 1159 2956 \r\nQ 1356 3278 1631 3431 \r\nQ 1906 3584 2284 3584 \r\nQ 2666 3584 2933 3390 \r\nQ 3200 3197 3328 2828 \r\nz\r\n\" id=\"DejaVuSans-6d\" transform=\"scale(0.015625)\"/>\r\n       <path d=\"M 3597 1894 \r\nL 3597 1613 \r\nL 953 1613 \r\nQ 991 1019 1311 708 \r\nQ 1631 397 2203 397 \r\nQ 2534 397 2845 478 \r\nQ 3156 559 3463 722 \r\nL 3463 178 \r\nQ 3153 47 2828 -22 \r\nQ 2503 -91 2169 -91 \r\nQ 1331 -91 842 396 \r\nQ 353 884 353 1716 \r\nQ 353 2575 817 3079 \r\nQ 1281 3584 2069 3584 \r\nQ 2775 3584 3186 3129 \r\nQ 3597 2675 3597 1894 \r\nz\r\nM 3022 2063 \r\nQ 3016 2534 2758 2815 \r\nQ 2500 3097 2075 3097 \r\nQ 1594 3097 1305 2825 \r\nQ 1016 2553 972 2059 \r\nL 3022 2063 \r\nz\r\n\" id=\"DejaVuSans-65\" transform=\"scale(0.015625)\"/>\r\n      </defs>\r\n      <use xlink:href=\"#DejaVuSans-54\"/>\r\n      <use x=\"57.958984\" xlink:href=\"#DejaVuSans-69\"/>\r\n      <use x=\"85.742188\" xlink:href=\"#DejaVuSans-6d\"/>\r\n      <use x=\"183.154297\" xlink:href=\"#DejaVuSans-65\"/>\r\n     </g>\r\n    </g>\r\n   </g>\r\n   <g id=\"matplotlib.axis_2\">\r\n    <g id=\"ytick_1\">\r\n     <g id=\"line2d_9\">\r\n      <defs>\r\n       <path d=\"M 0 0 \r\nL -3.5 0 \r\n\" id=\"ma079b873be\" style=\"stroke:#ffffff;stroke-width:0.8;\"/>\r\n      </defs>\r\n      <g>\r\n       <use style=\"fill:#ffffff;stroke:#ffffff;stroke-width:0.8;\" x=\"46.965625\" xlink:href=\"#ma079b873be\" y=\"210.260995\"/>\r\n      </g>\r\n     </g>\r\n     <g id=\"text_10\">\r\n      <!-- 780 -->\r\n      <g style=\"fill:#ffffff;\" transform=\"translate(20.878125 214.060214)scale(0.1 -0.1)\">\r\n       <defs>\r\n        <path d=\"M 2034 2216 \r\nQ 1584 2216 1326 1975 \r\nQ 1069 1734 1069 1313 \r\nQ 1069 891 1326 650 \r\nQ 1584 409 2034 409 \r\nQ 2484 409 2743 651 \r\nQ 3003 894 3003 1313 \r\nQ 3003 1734 2745 1975 \r\nQ 2488 2216 2034 2216 \r\nz\r\nM 1403 2484 \r\nQ 997 2584 770 2862 \r\nQ 544 3141 544 3541 \r\nQ 544 4100 942 4425 \r\nQ 1341 4750 2034 4750 \r\nQ 2731 4750 3128 4425 \r\nQ 3525 4100 3525 3541 \r\nQ 3525 3141 3298 2862 \r\nQ 3072 2584 2669 2484 \r\nQ 3125 2378 3379 2068 \r\nQ 3634 1759 3634 1313 \r\nQ 3634 634 3220 271 \r\nQ 2806 -91 2034 -91 \r\nQ 1263 -91 848 271 \r\nQ 434 634 434 1313 \r\nQ 434 1759 690 2068 \r\nQ 947 2378 1403 2484 \r\nz\r\nM 1172 3481 \r\nQ 1172 3119 1398 2916 \r\nQ 1625 2713 2034 2713 \r\nQ 2441 2713 2670 2916 \r\nQ 2900 3119 2900 3481 \r\nQ 2900 3844 2670 4047 \r\nQ 2441 4250 2034 4250 \r\nQ 1625 4250 1398 4047 \r\nQ 1172 3844 1172 3481 \r\nz\r\n\" id=\"DejaVuSans-38\" transform=\"scale(0.015625)\"/>\r\n       </defs>\r\n       <use xlink:href=\"#DejaVuSans-37\"/>\r\n       <use x=\"63.623047\" xlink:href=\"#DejaVuSans-38\"/>\r\n       <use x=\"127.246094\" xlink:href=\"#DejaVuSans-30\"/>\r\n      </g>\r\n     </g>\r\n    </g>\r\n    <g id=\"ytick_2\">\r\n     <g id=\"line2d_10\">\r\n      <g>\r\n       <use style=\"fill:#ffffff;stroke:#ffffff;stroke-width:0.8;\" x=\"46.965625\" xlink:href=\"#ma079b873be\" y=\"179.460228\"/>\r\n      </g>\r\n     </g>\r\n     <g id=\"text_11\">\r\n      <!-- 790 -->\r\n      <g style=\"fill:#ffffff;\" transform=\"translate(20.878125 183.259447)scale(0.1 -0.1)\">\r\n       <defs>\r\n        <path d=\"M 703 97 \r\nL 703 672 \r\nQ 941 559 1184 500 \r\nQ 1428 441 1663 441 \r\nQ 2288 441 2617 861 \r\nQ 2947 1281 2994 2138 \r\nQ 2813 1869 2534 1725 \r\nQ 2256 1581 1919 1581 \r\nQ 1219 1581 811 2004 \r\nQ 403 2428 403 3163 \r\nQ 403 3881 828 4315 \r\nQ 1253 4750 1959 4750 \r\nQ 2769 4750 3195 4129 \r\nQ 3622 3509 3622 2328 \r\nQ 3622 1225 3098 567 \r\nQ 2575 -91 1691 -91 \r\nQ 1453 -91 1209 -44 \r\nQ 966 3 703 97 \r\nz\r\nM 1959 2075 \r\nQ 2384 2075 2632 2365 \r\nQ 2881 2656 2881 3163 \r\nQ 2881 3666 2632 3958 \r\nQ 2384 4250 1959 4250 \r\nQ 1534 4250 1286 3958 \r\nQ 1038 3666 1038 3163 \r\nQ 1038 2656 1286 2365 \r\nQ 1534 2075 1959 2075 \r\nz\r\n\" id=\"DejaVuSans-39\" transform=\"scale(0.015625)\"/>\r\n       </defs>\r\n       <use xlink:href=\"#DejaVuSans-37\"/>\r\n       <use x=\"63.623047\" xlink:href=\"#DejaVuSans-39\"/>\r\n       <use x=\"127.246094\" xlink:href=\"#DejaVuSans-30\"/>\r\n      </g>\r\n     </g>\r\n    </g>\r\n    <g id=\"ytick_3\">\r\n     <g id=\"line2d_11\">\r\n      <g>\r\n       <use style=\"fill:#ffffff;stroke:#ffffff;stroke-width:0.8;\" x=\"46.965625\" xlink:href=\"#ma079b873be\" y=\"148.659461\"/>\r\n      </g>\r\n     </g>\r\n     <g id=\"text_12\">\r\n      <!-- 800 -->\r\n      <g style=\"fill:#ffffff;\" transform=\"translate(20.878125 152.45868)scale(0.1 -0.1)\">\r\n       <use xlink:href=\"#DejaVuSans-38\"/>\r\n       <use x=\"63.623047\" xlink:href=\"#DejaVuSans-30\"/>\r\n       <use x=\"127.246094\" xlink:href=\"#DejaVuSans-30\"/>\r\n      </g>\r\n     </g>\r\n    </g>\r\n    <g id=\"ytick_4\">\r\n     <g id=\"line2d_12\">\r\n      <g>\r\n       <use style=\"fill:#ffffff;stroke:#ffffff;stroke-width:0.8;\" x=\"46.965625\" xlink:href=\"#ma079b873be\" y=\"117.858694\"/>\r\n      </g>\r\n     </g>\r\n     <g id=\"text_13\">\r\n      <!-- 810 -->\r\n      <g style=\"fill:#ffffff;\" transform=\"translate(20.878125 121.657913)scale(0.1 -0.1)\">\r\n       <use xlink:href=\"#DejaVuSans-38\"/>\r\n       <use x=\"63.623047\" xlink:href=\"#DejaVuSans-31\"/>\r\n       <use x=\"127.246094\" xlink:href=\"#DejaVuSans-30\"/>\r\n      </g>\r\n     </g>\r\n    </g>\r\n    <g id=\"ytick_5\">\r\n     <g id=\"line2d_13\">\r\n      <g>\r\n       <use style=\"fill:#ffffff;stroke:#ffffff;stroke-width:0.8;\" x=\"46.965625\" xlink:href=\"#ma079b873be\" y=\"87.057927\"/>\r\n      </g>\r\n     </g>\r\n     <g id=\"text_14\">\r\n      <!-- 820 -->\r\n      <g style=\"fill:#ffffff;\" transform=\"translate(20.878125 90.857146)scale(0.1 -0.1)\">\r\n       <use xlink:href=\"#DejaVuSans-38\"/>\r\n       <use x=\"63.623047\" xlink:href=\"#DejaVuSans-32\"/>\r\n       <use x=\"127.246094\" xlink:href=\"#DejaVuSans-30\"/>\r\n      </g>\r\n     </g>\r\n    </g>\r\n    <g id=\"ytick_6\">\r\n     <g id=\"line2d_14\">\r\n      <g>\r\n       <use style=\"fill:#ffffff;stroke:#ffffff;stroke-width:0.8;\" x=\"46.965625\" xlink:href=\"#ma079b873be\" y=\"56.25716\"/>\r\n      </g>\r\n     </g>\r\n     <g id=\"text_15\">\r\n      <!-- 830 -->\r\n      <g style=\"fill:#ffffff;\" transform=\"translate(20.878125 60.056379)scale(0.1 -0.1)\">\r\n       <defs>\r\n        <path d=\"M 2597 2516 \r\nQ 3050 2419 3304 2112 \r\nQ 3559 1806 3559 1356 \r\nQ 3559 666 3084 287 \r\nQ 2609 -91 1734 -91 \r\nQ 1441 -91 1130 -33 \r\nQ 819 25 488 141 \r\nL 488 750 \r\nQ 750 597 1062 519 \r\nQ 1375 441 1716 441 \r\nQ 2309 441 2620 675 \r\nQ 2931 909 2931 1356 \r\nQ 2931 1769 2642 2001 \r\nQ 2353 2234 1838 2234 \r\nL 1294 2234 \r\nL 1294 2753 \r\nL 1863 2753 \r\nQ 2328 2753 2575 2939 \r\nQ 2822 3125 2822 3475 \r\nQ 2822 3834 2567 4026 \r\nQ 2313 4219 1838 4219 \r\nQ 1578 4219 1281 4162 \r\nQ 984 4106 628 3988 \r\nL 628 4550 \r\nQ 988 4650 1302 4700 \r\nQ 1616 4750 1894 4750 \r\nQ 2613 4750 3031 4423 \r\nQ 3450 4097 3450 3541 \r\nQ 3450 3153 3228 2886 \r\nQ 3006 2619 2597 2516 \r\nz\r\n\" id=\"DejaVuSans-33\" transform=\"scale(0.015625)\"/>\r\n       </defs>\r\n       <use xlink:href=\"#DejaVuSans-38\"/>\r\n       <use x=\"63.623047\" xlink:href=\"#DejaVuSans-33\"/>\r\n       <use x=\"127.246094\" xlink:href=\"#DejaVuSans-30\"/>\r\n      </g>\r\n     </g>\r\n    </g>\r\n    <g id=\"ytick_7\">\r\n     <g id=\"line2d_15\">\r\n      <g>\r\n       <use style=\"fill:#ffffff;stroke:#ffffff;stroke-width:0.8;\" x=\"46.965625\" xlink:href=\"#ma079b873be\" y=\"25.456393\"/>\r\n      </g>\r\n     </g>\r\n     <g id=\"text_16\">\r\n      <!-- 840 -->\r\n      <g style=\"fill:#ffffff;\" transform=\"translate(20.878125 29.255612)scale(0.1 -0.1)\">\r\n       <defs>\r\n        <path d=\"M 2419 4116 \r\nL 825 1625 \r\nL 2419 1625 \r\nL 2419 4116 \r\nz\r\nM 2253 4666 \r\nL 3047 4666 \r\nL 3047 1625 \r\nL 3713 1625 \r\nL 3713 1100 \r\nL 3047 1100 \r\nL 3047 0 \r\nL 2419 0 \r\nL 2419 1100 \r\nL 313 1100 \r\nL 313 1709 \r\nL 2253 4666 \r\nz\r\n\" id=\"DejaVuSans-34\" transform=\"scale(0.015625)\"/>\r\n       </defs>\r\n       <use xlink:href=\"#DejaVuSans-38\"/>\r\n       <use x=\"63.623047\" xlink:href=\"#DejaVuSans-34\"/>\r\n       <use x=\"127.246094\" xlink:href=\"#DejaVuSans-30\"/>\r\n      </g>\r\n     </g>\r\n    </g>\r\n    <g id=\"text_17\">\r\n     <!-- Google Stock Price -->\r\n     <g style=\"fill:#ffffff;\" transform=\"translate(14.798438 177.885)rotate(-90)scale(0.1 -0.1)\">\r\n      <defs>\r\n       <path d=\"M 3809 666 \r\nL 3809 1919 \r\nL 2778 1919 \r\nL 2778 2438 \r\nL 4434 2438 \r\nL 4434 434 \r\nQ 4069 175 3628 42 \r\nQ 3188 -91 2688 -91 \r\nQ 1594 -91 976 548 \r\nQ 359 1188 359 2328 \r\nQ 359 3472 976 4111 \r\nQ 1594 4750 2688 4750 \r\nQ 3144 4750 3555 4637 \r\nQ 3966 4525 4313 4306 \r\nL 4313 3634 \r\nQ 3963 3931 3569 4081 \r\nQ 3175 4231 2741 4231 \r\nQ 1884 4231 1454 3753 \r\nQ 1025 3275 1025 2328 \r\nQ 1025 1384 1454 906 \r\nQ 1884 428 2741 428 \r\nQ 3075 428 3337 486 \r\nQ 3600 544 3809 666 \r\nz\r\n\" id=\"DejaVuSans-47\" transform=\"scale(0.015625)\"/>\r\n       <path d=\"M 1959 3097 \r\nQ 1497 3097 1228 2736 \r\nQ 959 2375 959 1747 \r\nQ 959 1119 1226 758 \r\nQ 1494 397 1959 397 \r\nQ 2419 397 2687 759 \r\nQ 2956 1122 2956 1747 \r\nQ 2956 2369 2687 2733 \r\nQ 2419 3097 1959 3097 \r\nz\r\nM 1959 3584 \r\nQ 2709 3584 3137 3096 \r\nQ 3566 2609 3566 1747 \r\nQ 3566 888 3137 398 \r\nQ 2709 -91 1959 -91 \r\nQ 1206 -91 779 398 \r\nQ 353 888 353 1747 \r\nQ 353 2609 779 3096 \r\nQ 1206 3584 1959 3584 \r\nz\r\n\" id=\"DejaVuSans-6f\" transform=\"scale(0.015625)\"/>\r\n       <path d=\"M 2906 1791 \r\nQ 2906 2416 2648 2759 \r\nQ 2391 3103 1925 3103 \r\nQ 1463 3103 1205 2759 \r\nQ 947 2416 947 1791 \r\nQ 947 1169 1205 825 \r\nQ 1463 481 1925 481 \r\nQ 2391 481 2648 825 \r\nQ 2906 1169 2906 1791 \r\nz\r\nM 3481 434 \r\nQ 3481 -459 3084 -895 \r\nQ 2688 -1331 1869 -1331 \r\nQ 1566 -1331 1297 -1286 \r\nQ 1028 -1241 775 -1147 \r\nL 775 -588 \r\nQ 1028 -725 1275 -790 \r\nQ 1522 -856 1778 -856 \r\nQ 2344 -856 2625 -561 \r\nQ 2906 -266 2906 331 \r\nL 2906 616 \r\nQ 2728 306 2450 153 \r\nQ 2172 0 1784 0 \r\nQ 1141 0 747 490 \r\nQ 353 981 353 1791 \r\nQ 353 2603 747 3093 \r\nQ 1141 3584 1784 3584 \r\nQ 2172 3584 2450 3431 \r\nQ 2728 3278 2906 2969 \r\nL 2906 3500 \r\nL 3481 3500 \r\nL 3481 434 \r\nz\r\n\" id=\"DejaVuSans-67\" transform=\"scale(0.015625)\"/>\r\n       <path d=\"M 603 4863 \r\nL 1178 4863 \r\nL 1178 0 \r\nL 603 0 \r\nL 603 4863 \r\nz\r\n\" id=\"DejaVuSans-6c\" transform=\"scale(0.015625)\"/>\r\n       <path id=\"DejaVuSans-20\" transform=\"scale(0.015625)\"/>\r\n       <path d=\"M 3425 4513 \r\nL 3425 3897 \r\nQ 3066 4069 2747 4153 \r\nQ 2428 4238 2131 4238 \r\nQ 1616 4238 1336 4038 \r\nQ 1056 3838 1056 3469 \r\nQ 1056 3159 1242 3001 \r\nQ 1428 2844 1947 2747 \r\nL 2328 2669 \r\nQ 3034 2534 3370 2195 \r\nQ 3706 1856 3706 1288 \r\nQ 3706 609 3251 259 \r\nQ 2797 -91 1919 -91 \r\nQ 1588 -91 1214 -16 \r\nQ 841 59 441 206 \r\nL 441 856 \r\nQ 825 641 1194 531 \r\nQ 1563 422 1919 422 \r\nQ 2459 422 2753 634 \r\nQ 3047 847 3047 1241 \r\nQ 3047 1584 2836 1778 \r\nQ 2625 1972 2144 2069 \r\nL 1759 2144 \r\nQ 1053 2284 737 2584 \r\nQ 422 2884 422 3419 \r\nQ 422 4038 858 4394 \r\nQ 1294 4750 2059 4750 \r\nQ 2388 4750 2728 4690 \r\nQ 3069 4631 3425 4513 \r\nz\r\n\" id=\"DejaVuSans-53\" transform=\"scale(0.015625)\"/>\r\n       <path d=\"M 1172 4494 \r\nL 1172 3500 \r\nL 2356 3500 \r\nL 2356 3053 \r\nL 1172 3053 \r\nL 1172 1153 \r\nQ 1172 725 1289 603 \r\nQ 1406 481 1766 481 \r\nL 2356 481 \r\nL 2356 0 \r\nL 1766 0 \r\nQ 1100 0 847 248 \r\nQ 594 497 594 1153 \r\nL 594 3053 \r\nL 172 3053 \r\nL 172 3500 \r\nL 594 3500 \r\nL 594 4494 \r\nL 1172 4494 \r\nz\r\n\" id=\"DejaVuSans-74\" transform=\"scale(0.015625)\"/>\r\n       <path d=\"M 3122 3366 \r\nL 3122 2828 \r\nQ 2878 2963 2633 3030 \r\nQ 2388 3097 2138 3097 \r\nQ 1578 3097 1268 2742 \r\nQ 959 2388 959 1747 \r\nQ 959 1106 1268 751 \r\nQ 1578 397 2138 397 \r\nQ 2388 397 2633 464 \r\nQ 2878 531 3122 666 \r\nL 3122 134 \r\nQ 2881 22 2623 -34 \r\nQ 2366 -91 2075 -91 \r\nQ 1284 -91 818 406 \r\nQ 353 903 353 1747 \r\nQ 353 2603 823 3093 \r\nQ 1294 3584 2113 3584 \r\nQ 2378 3584 2631 3529 \r\nQ 2884 3475 3122 3366 \r\nz\r\n\" id=\"DejaVuSans-63\" transform=\"scale(0.015625)\"/>\r\n       <path d=\"M 581 4863 \r\nL 1159 4863 \r\nL 1159 1991 \r\nL 2875 3500 \r\nL 3609 3500 \r\nL 1753 1863 \r\nL 3688 0 \r\nL 2938 0 \r\nL 1159 1709 \r\nL 1159 0 \r\nL 581 0 \r\nL 581 4863 \r\nz\r\n\" id=\"DejaVuSans-6b\" transform=\"scale(0.015625)\"/>\r\n       <path d=\"M 1259 4147 \r\nL 1259 2394 \r\nL 2053 2394 \r\nQ 2494 2394 2734 2622 \r\nQ 2975 2850 2975 3272 \r\nQ 2975 3691 2734 3919 \r\nQ 2494 4147 2053 4147 \r\nL 1259 4147 \r\nz\r\nM 628 4666 \r\nL 2053 4666 \r\nQ 2838 4666 3239 4311 \r\nQ 3641 3956 3641 3272 \r\nQ 3641 2581 3239 2228 \r\nQ 2838 1875 2053 1875 \r\nL 1259 1875 \r\nL 1259 0 \r\nL 628 0 \r\nL 628 4666 \r\nz\r\n\" id=\"DejaVuSans-50\" transform=\"scale(0.015625)\"/>\r\n       <path d=\"M 2631 2963 \r\nQ 2534 3019 2420 3045 \r\nQ 2306 3072 2169 3072 \r\nQ 1681 3072 1420 2755 \r\nQ 1159 2438 1159 1844 \r\nL 1159 0 \r\nL 581 0 \r\nL 581 3500 \r\nL 1159 3500 \r\nL 1159 2956 \r\nQ 1341 3275 1631 3429 \r\nQ 1922 3584 2338 3584 \r\nQ 2397 3584 2469 3576 \r\nQ 2541 3569 2628 3553 \r\nL 2631 2963 \r\nz\r\n\" id=\"DejaVuSans-72\" transform=\"scale(0.015625)\"/>\r\n      </defs>\r\n      <use xlink:href=\"#DejaVuSans-47\"/>\r\n      <use x=\"77.490234\" xlink:href=\"#DejaVuSans-6f\"/>\r\n      <use x=\"138.671875\" xlink:href=\"#DejaVuSans-6f\"/>\r\n      <use x=\"199.853516\" xlink:href=\"#DejaVuSans-67\"/>\r\n      <use x=\"263.330078\" xlink:href=\"#DejaVuSans-6c\"/>\r\n      <use x=\"291.113281\" xlink:href=\"#DejaVuSans-65\"/>\r\n      <use x=\"352.636719\" xlink:href=\"#DejaVuSans-20\"/>\r\n      <use x=\"384.423828\" xlink:href=\"#DejaVuSans-53\"/>\r\n      <use x=\"447.900391\" xlink:href=\"#DejaVuSans-74\"/>\r\n      <use x=\"487.109375\" xlink:href=\"#DejaVuSans-6f\"/>\r\n      <use x=\"548.291016\" xlink:href=\"#DejaVuSans-63\"/>\r\n      <use x=\"603.271484\" xlink:href=\"#DejaVuSans-6b\"/>\r\n      <use x=\"661.181641\" xlink:href=\"#DejaVuSans-20\"/>\r\n      <use x=\"692.96875\" xlink:href=\"#DejaVuSans-50\"/>\r\n      <use x=\"751.521484\" xlink:href=\"#DejaVuSans-72\"/>\r\n      <use x=\"792.634766\" xlink:href=\"#DejaVuSans-69\"/>\r\n      <use x=\"820.417969\" xlink:href=\"#DejaVuSans-63\"/>\r\n      <use x=\"875.398438\" xlink:href=\"#DejaVuSans-65\"/>\r\n     </g>\r\n    </g>\r\n   </g>\r\n   <g id=\"line2d_16\">\r\n    <path clip-path=\"url(#pbc2a5cc489)\" d=\"M 62.183807 213.926286 \r\nL 78.202946 184.511554 \r\nL 94.222084 191.534129 \r\nL 110.241223 163.259025 \r\nL 126.260362 128.94697 \r\nL 142.279501 124.450058 \r\nL 158.298639 133.259078 \r\nL 174.317778 126.667713 \r\nL 190.336917 125.620487 \r\nL 206.356056 126.852518 \r\nL 222.375194 130.764215 \r\nL 238.394333 132.889468 \r\nL 254.413472 127.376131 \r\nL 270.432611 126.328905 \r\nL 286.451749 79.973751 \r\nL 302.470888 57.427589 \r\nL 318.490027 32.201761 \r\nL 334.509166 41.749999 \r\nL 350.528304 103.505537 \r\nL 366.547443 158.330902 \r\n\" style=\"fill:none;stroke:#ff0000;stroke-linecap:square;stroke-width:1.5;\"/>\r\n   </g>\r\n   <g id=\"line2d_17\">\r\n    <path clip-path=\"url(#pbc2a5cc489)\" d=\"M 62.183807 221.762216 \r\nL 78.202946 229.874489 \r\nL 94.222084 226.940106 \r\nL 110.241223 221.469323 \r\nL 126.260362 210.727969 \r\nL 142.279501 192.760354 \r\nL 158.298639 178.380396 \r\nL 174.317778 175.238846 \r\nL 190.336917 176.379587 \r\nL 206.356056 177.289473 \r\nL 222.375194 177.00504 \r\nL 238.394333 176.642589 \r\nL 254.413472 176.348192 \r\nL 270.432611 173.996777 \r\nL 286.451749 170.775517 \r\nL 302.470888 155.181501 \r\nL 318.490027 133.681122 \r\nL 334.509166 112.611435 \r\nL 350.528304 104.329217 \r\nL 366.547443 122.382181 \r\n\" style=\"fill:none;stroke:#0000ff;stroke-linecap:square;stroke-width:1.5;\"/>\r\n   </g>\r\n   <g id=\"patch_3\">\r\n    <path d=\"M 46.965625 239.758125 \r\nL 46.965625 22.318125 \r\n\" style=\"fill:none;stroke:#ffffff;stroke-linecap:square;stroke-linejoin:miter;stroke-width:0.8;\"/>\r\n   </g>\r\n   <g id=\"patch_4\">\r\n    <path d=\"M 381.765625 239.758125 \r\nL 381.765625 22.318125 \r\n\" style=\"fill:none;stroke:#ffffff;stroke-linecap:square;stroke-linejoin:miter;stroke-width:0.8;\"/>\r\n   </g>\r\n   <g id=\"patch_5\">\r\n    <path d=\"M 46.965625 239.758125 \r\nL 381.765625 239.758125 \r\n\" style=\"fill:none;stroke:#ffffff;stroke-linecap:square;stroke-linejoin:miter;stroke-width:0.8;\"/>\r\n   </g>\r\n   <g id=\"patch_6\">\r\n    <path d=\"M 46.965625 22.318125 \r\nL 381.765625 22.318125 \r\n\" style=\"fill:none;stroke:#ffffff;stroke-linecap:square;stroke-linejoin:miter;stroke-width:0.8;\"/>\r\n   </g>\r\n   <g id=\"text_18\">\r\n    <!-- Google Stock Price Prediction -->\r\n    <g style=\"fill:#ffffff;\" transform=\"translate(126.438438 16.318125)scale(0.12 -0.12)\">\r\n     <defs>\r\n      <path d=\"M 2906 2969 \r\nL 2906 4863 \r\nL 3481 4863 \r\nL 3481 0 \r\nL 2906 0 \r\nL 2906 525 \r\nQ 2725 213 2448 61 \r\nQ 2172 -91 1784 -91 \r\nQ 1150 -91 751 415 \r\nQ 353 922 353 1747 \r\nQ 353 2572 751 3078 \r\nQ 1150 3584 1784 3584 \r\nQ 2172 3584 2448 3432 \r\nQ 2725 3281 2906 2969 \r\nz\r\nM 947 1747 \r\nQ 947 1113 1208 752 \r\nQ 1469 391 1925 391 \r\nQ 2381 391 2643 752 \r\nQ 2906 1113 2906 1747 \r\nQ 2906 2381 2643 2742 \r\nQ 2381 3103 1925 3103 \r\nQ 1469 3103 1208 2742 \r\nQ 947 2381 947 1747 \r\nz\r\n\" id=\"DejaVuSans-64\" transform=\"scale(0.015625)\"/>\r\n      <path d=\"M 3513 2113 \r\nL 3513 0 \r\nL 2938 0 \r\nL 2938 2094 \r\nQ 2938 2591 2744 2837 \r\nQ 2550 3084 2163 3084 \r\nQ 1697 3084 1428 2787 \r\nQ 1159 2491 1159 1978 \r\nL 1159 0 \r\nL 581 0 \r\nL 581 3500 \r\nL 1159 3500 \r\nL 1159 2956 \r\nQ 1366 3272 1645 3428 \r\nQ 1925 3584 2291 3584 \r\nQ 2894 3584 3203 3211 \r\nQ 3513 2838 3513 2113 \r\nz\r\n\" id=\"DejaVuSans-6e\" transform=\"scale(0.015625)\"/>\r\n     </defs>\r\n     <use xlink:href=\"#DejaVuSans-47\"/>\r\n     <use x=\"77.490234\" xlink:href=\"#DejaVuSans-6f\"/>\r\n     <use x=\"138.671875\" xlink:href=\"#DejaVuSans-6f\"/>\r\n     <use x=\"199.853516\" xlink:href=\"#DejaVuSans-67\"/>\r\n     <use x=\"263.330078\" xlink:href=\"#DejaVuSans-6c\"/>\r\n     <use x=\"291.113281\" xlink:href=\"#DejaVuSans-65\"/>\r\n     <use x=\"352.636719\" xlink:href=\"#DejaVuSans-20\"/>\r\n     <use x=\"384.423828\" xlink:href=\"#DejaVuSans-53\"/>\r\n     <use x=\"447.900391\" xlink:href=\"#DejaVuSans-74\"/>\r\n     <use x=\"487.109375\" xlink:href=\"#DejaVuSans-6f\"/>\r\n     <use x=\"548.291016\" xlink:href=\"#DejaVuSans-63\"/>\r\n     <use x=\"603.271484\" xlink:href=\"#DejaVuSans-6b\"/>\r\n     <use x=\"661.181641\" xlink:href=\"#DejaVuSans-20\"/>\r\n     <use x=\"692.96875\" xlink:href=\"#DejaVuSans-50\"/>\r\n     <use x=\"751.521484\" xlink:href=\"#DejaVuSans-72\"/>\r\n     <use x=\"792.634766\" xlink:href=\"#DejaVuSans-69\"/>\r\n     <use x=\"820.417969\" xlink:href=\"#DejaVuSans-63\"/>\r\n     <use x=\"875.398438\" xlink:href=\"#DejaVuSans-65\"/>\r\n     <use x=\"936.921875\" xlink:href=\"#DejaVuSans-20\"/>\r\n     <use x=\"968.708984\" xlink:href=\"#DejaVuSans-50\"/>\r\n     <use x=\"1027.261719\" xlink:href=\"#DejaVuSans-72\"/>\r\n     <use x=\"1066.125\" xlink:href=\"#DejaVuSans-65\"/>\r\n     <use x=\"1127.648438\" xlink:href=\"#DejaVuSans-64\"/>\r\n     <use x=\"1191.125\" xlink:href=\"#DejaVuSans-69\"/>\r\n     <use x=\"1218.908203\" xlink:href=\"#DejaVuSans-63\"/>\r\n     <use x=\"1273.888672\" xlink:href=\"#DejaVuSans-74\"/>\r\n     <use x=\"1313.097656\" xlink:href=\"#DejaVuSans-69\"/>\r\n     <use x=\"1340.880859\" xlink:href=\"#DejaVuSans-6f\"/>\r\n     <use x=\"1402.0625\" xlink:href=\"#DejaVuSans-6e\"/>\r\n    </g>\r\n   </g>\r\n   <g id=\"legend_1\">\r\n    <g id=\"patch_7\">\r\n     <path d=\"M 53.965625 59.674375 \r\nL 229.778125 59.674375 \r\nQ 231.778125 59.674375 231.778125 57.674375 \r\nL 231.778125 29.318125 \r\nQ 231.778125 27.318125 229.778125 27.318125 \r\nL 53.965625 27.318125 \r\nQ 51.965625 27.318125 51.965625 29.318125 \r\nL 51.965625 57.674375 \r\nQ 51.965625 59.674375 53.965625 59.674375 \r\nz\r\n\" style=\"opacity:0.8;stroke:#cccccc;stroke-linejoin:miter;\"/>\r\n    </g>\r\n    <g id=\"line2d_18\">\r\n     <path d=\"M 55.965625 35.416562 \r\nL 75.965625 35.416562 \r\n\" style=\"fill:none;stroke:#ff0000;stroke-linecap:square;stroke-width:1.5;\"/>\r\n    </g>\r\n    <g id=\"line2d_19\"/>\r\n    <g id=\"text_19\">\r\n     <!-- Real Google Stock Price -->\r\n     <g style=\"fill:#ffffff;\" transform=\"translate(83.965625 38.916562)scale(0.1 -0.1)\">\r\n      <defs>\r\n       <path d=\"M 2841 2188 \r\nQ 3044 2119 3236 1894 \r\nQ 3428 1669 3622 1275 \r\nL 4263 0 \r\nL 3584 0 \r\nL 2988 1197 \r\nQ 2756 1666 2539 1819 \r\nQ 2322 1972 1947 1972 \r\nL 1259 1972 \r\nL 1259 0 \r\nL 628 0 \r\nL 628 4666 \r\nL 2053 4666 \r\nQ 2853 4666 3247 4331 \r\nQ 3641 3997 3641 3322 \r\nQ 3641 2881 3436 2590 \r\nQ 3231 2300 2841 2188 \r\nz\r\nM 1259 4147 \r\nL 1259 2491 \r\nL 2053 2491 \r\nQ 2509 2491 2742 2702 \r\nQ 2975 2913 2975 3322 \r\nQ 2975 3731 2742 3939 \r\nQ 2509 4147 2053 4147 \r\nL 1259 4147 \r\nz\r\n\" id=\"DejaVuSans-52\" transform=\"scale(0.015625)\"/>\r\n       <path d=\"M 2194 1759 \r\nQ 1497 1759 1228 1600 \r\nQ 959 1441 959 1056 \r\nQ 959 750 1161 570 \r\nQ 1363 391 1709 391 \r\nQ 2188 391 2477 730 \r\nQ 2766 1069 2766 1631 \r\nL 2766 1759 \r\nL 2194 1759 \r\nz\r\nM 3341 1997 \r\nL 3341 0 \r\nL 2766 0 \r\nL 2766 531 \r\nQ 2569 213 2275 61 \r\nQ 1981 -91 1556 -91 \r\nQ 1019 -91 701 211 \r\nQ 384 513 384 1019 \r\nQ 384 1609 779 1909 \r\nQ 1175 2209 1959 2209 \r\nL 2766 2209 \r\nL 2766 2266 \r\nQ 2766 2663 2505 2880 \r\nQ 2244 3097 1772 3097 \r\nQ 1472 3097 1187 3025 \r\nQ 903 2953 641 2809 \r\nL 641 3341 \r\nQ 956 3463 1253 3523 \r\nQ 1550 3584 1831 3584 \r\nQ 2591 3584 2966 3190 \r\nQ 3341 2797 3341 1997 \r\nz\r\n\" id=\"DejaVuSans-61\" transform=\"scale(0.015625)\"/>\r\n      </defs>\r\n      <use xlink:href=\"#DejaVuSans-52\"/>\r\n      <use x=\"64.982422\" xlink:href=\"#DejaVuSans-65\"/>\r\n      <use x=\"126.505859\" xlink:href=\"#DejaVuSans-61\"/>\r\n      <use x=\"187.785156\" xlink:href=\"#DejaVuSans-6c\"/>\r\n      <use x=\"215.568359\" xlink:href=\"#DejaVuSans-20\"/>\r\n      <use x=\"247.355469\" xlink:href=\"#DejaVuSans-47\"/>\r\n      <use x=\"324.845703\" xlink:href=\"#DejaVuSans-6f\"/>\r\n      <use x=\"386.027344\" xlink:href=\"#DejaVuSans-6f\"/>\r\n      <use x=\"447.208984\" xlink:href=\"#DejaVuSans-67\"/>\r\n      <use x=\"510.685547\" xlink:href=\"#DejaVuSans-6c\"/>\r\n      <use x=\"538.46875\" xlink:href=\"#DejaVuSans-65\"/>\r\n      <use x=\"599.992188\" xlink:href=\"#DejaVuSans-20\"/>\r\n      <use x=\"631.779297\" xlink:href=\"#DejaVuSans-53\"/>\r\n      <use x=\"695.255859\" xlink:href=\"#DejaVuSans-74\"/>\r\n      <use x=\"734.464844\" xlink:href=\"#DejaVuSans-6f\"/>\r\n      <use x=\"795.646484\" xlink:href=\"#DejaVuSans-63\"/>\r\n      <use x=\"850.626953\" xlink:href=\"#DejaVuSans-6b\"/>\r\n      <use x=\"908.537109\" xlink:href=\"#DejaVuSans-20\"/>\r\n      <use x=\"940.324219\" xlink:href=\"#DejaVuSans-50\"/>\r\n      <use x=\"998.876953\" xlink:href=\"#DejaVuSans-72\"/>\r\n      <use x=\"1039.990234\" xlink:href=\"#DejaVuSans-69\"/>\r\n      <use x=\"1067.773438\" xlink:href=\"#DejaVuSans-63\"/>\r\n      <use x=\"1122.753906\" xlink:href=\"#DejaVuSans-65\"/>\r\n     </g>\r\n    </g>\r\n    <g id=\"line2d_20\">\r\n     <path d=\"M 55.965625 50.094687 \r\nL 75.965625 50.094687 \r\n\" style=\"fill:none;stroke:#0000ff;stroke-linecap:square;stroke-width:1.5;\"/>\r\n    </g>\r\n    <g id=\"line2d_21\"/>\r\n    <g id=\"text_20\">\r\n     <!-- Predicted Google Stock Price -->\r\n     <g style=\"fill:#ffffff;\" transform=\"translate(83.965625 53.594687)scale(0.1 -0.1)\">\r\n      <use xlink:href=\"#DejaVuSans-50\"/>\r\n      <use x=\"58.552734\" xlink:href=\"#DejaVuSans-72\"/>\r\n      <use x=\"97.416016\" xlink:href=\"#DejaVuSans-65\"/>\r\n      <use x=\"158.939453\" xlink:href=\"#DejaVuSans-64\"/>\r\n      <use x=\"222.416016\" xlink:href=\"#DejaVuSans-69\"/>\r\n      <use x=\"250.199219\" xlink:href=\"#DejaVuSans-63\"/>\r\n      <use x=\"305.179688\" xlink:href=\"#DejaVuSans-74\"/>\r\n      <use x=\"344.388672\" xlink:href=\"#DejaVuSans-65\"/>\r\n      <use x=\"405.912109\" xlink:href=\"#DejaVuSans-64\"/>\r\n      <use x=\"469.388672\" xlink:href=\"#DejaVuSans-20\"/>\r\n      <use x=\"501.175781\" xlink:href=\"#DejaVuSans-47\"/>\r\n      <use x=\"578.666016\" xlink:href=\"#DejaVuSans-6f\"/>\r\n      <use x=\"639.847656\" xlink:href=\"#DejaVuSans-6f\"/>\r\n      <use x=\"701.029297\" xlink:href=\"#DejaVuSans-67\"/>\r\n      <use x=\"764.505859\" xlink:href=\"#DejaVuSans-6c\"/>\r\n      <use x=\"792.289062\" xlink:href=\"#DejaVuSans-65\"/>\r\n      <use x=\"853.8125\" xlink:href=\"#DejaVuSans-20\"/>\r\n      <use x=\"885.599609\" xlink:href=\"#DejaVuSans-53\"/>\r\n      <use x=\"949.076172\" xlink:href=\"#DejaVuSans-74\"/>\r\n      <use x=\"988.285156\" xlink:href=\"#DejaVuSans-6f\"/>\r\n      <use x=\"1049.466797\" xlink:href=\"#DejaVuSans-63\"/>\r\n      <use x=\"1104.447266\" xlink:href=\"#DejaVuSans-6b\"/>\r\n      <use x=\"1162.357422\" xlink:href=\"#DejaVuSans-20\"/>\r\n      <use x=\"1194.144531\" xlink:href=\"#DejaVuSans-50\"/>\r\n      <use x=\"1252.697266\" xlink:href=\"#DejaVuSans-72\"/>\r\n      <use x=\"1293.810547\" xlink:href=\"#DejaVuSans-69\"/>\r\n      <use x=\"1321.59375\" xlink:href=\"#DejaVuSans-63\"/>\r\n      <use x=\"1376.574219\" xlink:href=\"#DejaVuSans-65\"/>\r\n     </g>\r\n    </g>\r\n   </g>\r\n  </g>\r\n </g>\r\n <defs>\r\n  <clipPath id=\"pbc2a5cc489\">\r\n   <rect height=\"217.44\" width=\"334.8\" x=\"46.965625\" y=\"22.318125\"/>\r\n  </clipPath>\r\n </defs>\r\n</svg>\r\n",
      "image/png": "[encoded data removed]"
     },
     "metadata": {}
    }
   ],
   "metadata": {}
  }
 ],
 "metadata": {
  "orig_nbformat": 4,
  "language_info": {
   "name": "python",
   "version": "3.9.4",
   "mimetype": "text/x-python",
   "codemirror_mode": {
    "name": "ipython",
    "version": 3
   },
   "pygments_lexer": "ipython3",
   "nbconvert_exporter": "python",
   "file_extension": ".py"
  },
  "kernelspec": {
   "name": "python3",
   "display_name": "Python 3.9.4 64-bit"
  },
  "interpreter": {
   "hash": "2951d919548ae18de2df5ded62b9a6d18db65d3b5a4ffaab87b83029c7c31e33"
  }
 },
 "nbformat": 4,
 "nbformat_minor": 2
}