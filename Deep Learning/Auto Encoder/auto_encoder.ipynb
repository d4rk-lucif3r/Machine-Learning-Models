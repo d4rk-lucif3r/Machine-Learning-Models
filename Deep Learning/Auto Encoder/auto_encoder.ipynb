{
  "nbformat": 4,
  "nbformat_minor": 2,
  "metadata": {
    "colab": {
      "name": "AutoEncoders.ipynb",
      "provenance": [],
      "collapsed_sections": [],
      "toc_visible": true
    },
    "kernelspec": {
      "name": "python3",
      "display_name": "Python 3.9.4 64-bit"
    },
    "accelerator": "GPU",
    "language_info": {
      "name": "python",
      "version": "3.9.4",
      "mimetype": "text/x-python",
      "codemirror_mode": {
        "name": "ipython",
        "version": 3
      },
      "pygments_lexer": "ipython3",
      "nbconvert_exporter": "python",
      "file_extension": ".py"
    },
    "interpreter": {
      "hash": "2951d919548ae18de2df5ded62b9a6d18db65d3b5a4ffaab87b83029c7c31e33"
    }
  },
  "cells": [
    {
      "cell_type": "markdown",
      "source": [
        "# AutoEncoders"
      ],
      "metadata": {
        "id": "K4f4JG1gdKqj",
        "colab_type": "text"
      }
    },
    {
      "cell_type": "markdown",
      "source": [
        "## Downloading the dataset"
      ],
      "metadata": {
        "id": "1jbiqOK7dLGG",
        "colab_type": "text"
      }
    },
    {
      "cell_type": "markdown",
      "source": [
        "### ML-100K"
      ],
      "metadata": {
        "id": "XL5MEkLcfRD2",
        "colab_type": "text"
      }
    },
    {
      "cell_type": "code",
      "execution_count": null,
      "source": [
        "# !wget \"http://files.grouplens.org/datasets/movielens/ml-100k.zip\"\r\n",
        "# !unzip ml-100k.zip\r\n",
        "# !ls"
      ],
      "outputs": [],
      "metadata": {
        "id": "rjOPzue7FCXJ",
        "colab_type": "code",
        "outputId": "b0f0b631-51bf-49e8-9ad6-947a0bd3d832",
        "colab": {
          "base_uri": "https://localhost:8080/",
          "height": 646
        }
      }
    },
    {
      "cell_type": "markdown",
      "source": [
        "### ML-1M"
      ],
      "metadata": {
        "id": "9Xis6ldDfTs6",
        "colab_type": "text"
      }
    },
    {
      "cell_type": "code",
      "execution_count": null,
      "source": [
        "# !wget \"http://files.grouplens.org/datasets/movielens/ml-1m.zip\"\r\n",
        "# !unzip ml-1m.zip\r\n",
        "# !ls"
      ],
      "outputs": [],
      "metadata": {
        "id": "LOly1yfAfTjd",
        "colab_type": "code",
        "outputId": "519b7fb3-4f15-4a0b-91d5-8221ee486409",
        "colab": {
          "base_uri": "https://localhost:8080/",
          "height": 323
        }
      }
    },
    {
      "cell_type": "markdown",
      "source": [
        "## Importing the libraries"
      ],
      "metadata": {
        "id": "EOBJ8UCXdY0g",
        "colab_type": "text"
      }
    },
    {
      "cell_type": "code",
      "execution_count": 1,
      "source": [
        "import numpy as np\r\n",
        "import pandas as pd\r\n",
        "import torch\r\n",
        "import torch.nn as nn\r\n",
        "import torch.nn.parallel\r\n",
        "import torch.optim as optim\r\n",
        "import torch.utils.data\r\n",
        "from torch.autograd import Variable"
      ],
      "outputs": [],
      "metadata": {
        "id": "_LvGeU1CeCtg",
        "colab_type": "code",
        "colab": {}
      }
    },
    {
      "cell_type": "markdown",
      "source": [
        "## Importing the dataset\n"
      ],
      "metadata": {
        "id": "pM04FyMudkoK",
        "colab_type": "text"
      }
    },
    {
      "cell_type": "code",
      "execution_count": null,
      "source": [
        "# We won't be using this dataset.\r\n",
        "movies = pd.read_csv('ml-1m/movies.dat', sep = '::', header = None, engine = 'python', encoding = 'latin-1')\r\n",
        "users = pd.read_csv('ml-1m/users.dat', sep = '::', header = None, engine = 'python', encoding = 'latin-1')\r\n",
        "ratings = pd.read_csv('ml-1m/ratings.dat', sep = '::', header = None, engine = 'python', encoding = 'latin-1')"
      ],
      "outputs": [],
      "metadata": {
        "id": "UJw2p3-Cewo4",
        "colab_type": "code",
        "colab": {}
      }
    },
    {
      "cell_type": "markdown",
      "source": [
        "## Preparing the training set and the test set\n"
      ],
      "metadata": {
        "id": "yTIbE2tkdkwP",
        "colab_type": "text"
      }
    },
    {
      "cell_type": "code",
      "execution_count": 2,
      "source": [
        "training_set = pd.read_csv('ml-100k/u1.base', delimiter = '\\t')\r\n",
        "training_set = np.array(training_set, dtype = 'int')\r\n",
        "test_set = pd.read_csv('ml-100k/u1.test', delimiter = '\\t')\r\n",
        "test_set = np.array(test_set, dtype = 'int')"
      ],
      "outputs": [],
      "metadata": {
        "id": "2usLKJBEgPE2",
        "colab_type": "code",
        "colab": {}
      }
    },
    {
      "cell_type": "markdown",
      "source": [
        "## Getting the number of users and movies\n"
      ],
      "metadata": {
        "id": "zCf8HjSydk4s",
        "colab_type": "text"
      }
    },
    {
      "cell_type": "code",
      "execution_count": 3,
      "source": [
        "nb_users = int(max(max(training_set[:, 0], ), max(test_set[:, 0])))\r\n",
        "nb_movies = int(max(max(training_set[:, 1], ), max(test_set[:, 1])))"
      ],
      "outputs": [],
      "metadata": {
        "id": "gPaGZqdniC5m",
        "colab_type": "code",
        "colab": {}
      }
    },
    {
      "cell_type": "markdown",
      "source": [
        "## Converting the data into an array with users in lines and movies in columns\n"
      ],
      "metadata": {
        "id": "J-w4-hVidlAm",
        "colab_type": "text"
      }
    },
    {
      "cell_type": "code",
      "execution_count": 4,
      "source": [
        "def convert(data):\r\n",
        "  new_data = []\r\n",
        "  for id_users in range(1, nb_users + 1):\r\n",
        "    id_movies = data[:, 1] [data[:, 0] == id_users]\r\n",
        "    id_ratings = data[:, 2] [data[:, 0] == id_users]\r\n",
        "    ratings = np.zeros(nb_movies)\r\n",
        "    ratings[id_movies - 1] = id_ratings\r\n",
        "    new_data.append(list(ratings))\r\n",
        "  return new_data\r\n",
        "training_set = convert(training_set)\r\n",
        "test_set = convert(test_set)"
      ],
      "outputs": [],
      "metadata": {
        "id": "-wASs2YFiDaa",
        "colab_type": "code",
        "colab": {}
      }
    },
    {
      "cell_type": "markdown",
      "source": [
        "## Converting the data into Torch tensors\n"
      ],
      "metadata": {
        "id": "AMmhuUpldlHo",
        "colab_type": "text"
      }
    },
    {
      "cell_type": "code",
      "execution_count": 5,
      "source": [
        "training_set = torch.FloatTensor(training_set)\r\n",
        "test_set = torch.FloatTensor(test_set)"
      ],
      "outputs": [],
      "metadata": {
        "id": "TwD-KD8yiEEw",
        "colab_type": "code",
        "colab": {}
      }
    },
    {
      "cell_type": "markdown",
      "source": [
        "## Creating the architecture of the Neural Network\n"
      ],
      "metadata": {
        "id": "6kkL8NkkdlZj",
        "colab_type": "text"
      }
    },
    {
      "cell_type": "code",
      "execution_count": 6,
      "source": [
        "class SAE(nn.Module):\r\n",
        "    def __init__(self, ):\r\n",
        "        super(SAE, self).__init__()\r\n",
        "        self.fc1 = nn.Linear(nb_movies, 20)\r\n",
        "        self.fc2 = nn.Linear(20, 10)\r\n",
        "        self.fc3 = nn.Linear(10, 20)\r\n",
        "        self.fc4 = nn.Linear(20, nb_movies)\r\n",
        "        self.activation = nn.Sigmoid()\r\n",
        "    def forward(self, x):\r\n",
        "        x = self.activation(self.fc1(x))\r\n",
        "        x = self.activation(self.fc2(x))\r\n",
        "        x = self.activation(self.fc3(x))\r\n",
        "        x = self.fc4(x)\r\n",
        "        return x\r\n",
        "    def __call__(self, x):\r\n",
        "        return self.forward(x)\r\n"
      ],
      "outputs": [],
      "metadata": {}
    },
    {
      "cell_type": "code",
      "execution_count": 7,
      "source": [
        "sae = SAE()\r\n",
        "criterion = nn.MSELoss()\r\n",
        "a = 0.001\r\n",
        "optimizer = optim.RMSprop(sae.parameters(), lr = a, weight_decay = 0.5)\r\n",
        "\r\n",
        "    "
      ],
      "outputs": [],
      "metadata": {}
    },
    {
      "cell_type": "markdown",
      "source": [
        "## Training the SAE\n"
      ],
      "metadata": {
        "id": "7gy59alAdloL",
        "colab_type": "text"
      }
    },
    {
      "cell_type": "code",
      "execution_count": 10,
      "source": [
        "nb_epoch = 200\r\n",
        "for epoch in range(1, nb_epoch + 1):\r\n",
        "    train_loss = 0\r\n",
        "    s = 0.\r\n",
        "    for id_user in range(nb_users):\r\n",
        "        input = Variable(training_set[id_user]).unsqueeze(0)\r\n",
        "        target = input.clone()\r\n",
        "        if torch.sum(target.data > 0) > 0:\r\n",
        "            output = sae(input)\r\n",
        "            target.require_grad = False\r\n",
        "            output[target == 0] = 0\r\n",
        "            loss = criterion(output, target)\r\n",
        "            mean_corrector = nb_movies/float(torch.sum(target.data > 0) + 1e-10)\r\n",
        "            loss.backward()\r\n",
        "            train_loss += np.sqrt(loss.data*mean_corrector)\r\n",
        "            optimizer.step()\r\n",
        "            s = s + 1\r\n",
        "    print('epoch: ' + str(epoch) + ' loss: ' + str(train_loss/s))\r\n"
      ],
      "outputs": [
        {
          "output_type": "stream",
          "name": "stdout",
          "text": [
            "epoch: 1 loss: tensor(1.8563)\n",
            "epoch: 2 loss: tensor(1.0921)\n",
            "epoch: 3 loss: tensor(1.0485)\n",
            "epoch: 4 loss: tensor(1.0334)\n",
            "epoch: 5 loss: tensor(1.0259)\n",
            "epoch: 6 loss: tensor(1.0215)\n",
            "epoch: 7 loss: tensor(1.0186)\n",
            "epoch: 8 loss: tensor(1.0167)\n",
            "epoch: 9 loss: tensor(1.0153)\n",
            "epoch: 10 loss: tensor(1.0142)\n",
            "epoch: 11 loss: tensor(1.0134)\n",
            "epoch: 12 loss: tensor(1.0128)\n",
            "epoch: 13 loss: tensor(1.0123)\n",
            "epoch: 14 loss: tensor(1.0119)\n",
            "epoch: 15 loss: tensor(1.0116)\n",
            "epoch: 16 loss: tensor(1.0114)\n",
            "epoch: 17 loss: tensor(1.0112)\n",
            "epoch: 18 loss: tensor(1.0110)\n",
            "epoch: 19 loss: tensor(1.0108)\n",
            "epoch: 20 loss: tensor(1.0107)\n",
            "epoch: 21 loss: tensor(1.0106)\n",
            "epoch: 22 loss: tensor(1.0105)\n",
            "epoch: 23 loss: tensor(1.0104)\n",
            "epoch: 24 loss: tensor(1.0103)\n",
            "epoch: 25 loss: tensor(1.0103)\n",
            "epoch: 26 loss: tensor(1.0102)\n",
            "epoch: 27 loss: tensor(1.0101)\n",
            "epoch: 28 loss: tensor(1.0101)\n",
            "epoch: 29 loss: tensor(1.0101)\n",
            "epoch: 30 loss: tensor(1.0100)\n",
            "epoch: 31 loss: tensor(1.0100)\n",
            "epoch: 32 loss: tensor(1.0100)\n",
            "epoch: 33 loss: tensor(1.0099)\n",
            "epoch: 34 loss: tensor(1.0099)\n",
            "epoch: 35 loss: tensor(1.0099)\n",
            "epoch: 36 loss: tensor(1.0099)\n",
            "epoch: 37 loss: tensor(1.0098)\n",
            "epoch: 38 loss: tensor(1.0098)\n",
            "epoch: 39 loss: tensor(1.0098)\n",
            "epoch: 40 loss: tensor(1.0098)\n",
            "epoch: 41 loss: tensor(1.0097)\n",
            "epoch: 42 loss: tensor(1.0096)\n",
            "epoch: 43 loss: tensor(1.0092)\n",
            "epoch: 44 loss: tensor(1.0077)\n",
            "epoch: 45 loss: tensor(1.0064)\n",
            "epoch: 46 loss: tensor(1.0048)\n",
            "epoch: 47 loss: tensor(1.0018)\n",
            "epoch: 48 loss: tensor(0.9976)\n",
            "epoch: 49 loss: tensor(0.9933)\n",
            "epoch: 50 loss: tensor(0.9887)\n",
            "epoch: 51 loss: tensor(0.9852)\n",
            "epoch: 52 loss: tensor(0.9827)\n",
            "epoch: 53 loss: tensor(0.9811)\n",
            "epoch: 54 loss: tensor(0.9791)\n",
            "epoch: 55 loss: tensor(0.9801)\n",
            "epoch: 56 loss: tensor(0.9846)\n",
            "epoch: 57 loss: tensor(0.9840)\n",
            "epoch: 58 loss: tensor(0.9821)\n",
            "epoch: 59 loss: tensor(0.9780)\n",
            "epoch: 60 loss: tensor(0.9784)\n",
            "epoch: 61 loss: tensor(0.9787)\n",
            "epoch: 62 loss: tensor(0.9730)\n",
            "epoch: 63 loss: tensor(0.9768)\n",
            "epoch: 64 loss: tensor(0.9731)\n",
            "epoch: 65 loss: tensor(0.9677)\n",
            "epoch: 66 loss: tensor(0.9617)\n",
            "epoch: 67 loss: tensor(0.9631)\n",
            "epoch: 68 loss: tensor(0.9595)\n",
            "epoch: 69 loss: tensor(0.9548)\n",
            "epoch: 70 loss: tensor(0.9543)\n",
            "epoch: 71 loss: tensor(0.9501)\n",
            "epoch: 72 loss: tensor(0.9475)\n",
            "epoch: 73 loss: tensor(0.9443)\n",
            "epoch: 74 loss: tensor(0.9416)\n",
            "epoch: 75 loss: tensor(0.9408)\n",
            "epoch: 76 loss: tensor(0.9383)\n",
            "epoch: 77 loss: tensor(0.9368)\n",
            "epoch: 78 loss: tensor(0.9349)\n",
            "epoch: 79 loss: tensor(0.9339)\n",
            "epoch: 80 loss: tensor(0.9327)\n",
            "epoch: 81 loss: tensor(0.9317)\n",
            "epoch: 82 loss: tensor(0.9309)\n",
            "epoch: 83 loss: tensor(0.9300)\n",
            "epoch: 84 loss: tensor(0.9291)\n",
            "epoch: 85 loss: tensor(0.9283)\n",
            "epoch: 86 loss: tensor(0.9277)\n",
            "epoch: 87 loss: tensor(0.9268)\n",
            "epoch: 88 loss: tensor(0.9263)\n",
            "epoch: 89 loss: tensor(0.9258)\n",
            "epoch: 90 loss: tensor(0.9267)\n",
            "epoch: 91 loss: tensor(0.9258)\n",
            "epoch: 92 loss: tensor(0.9248)\n",
            "epoch: 93 loss: tensor(0.9240)\n",
            "epoch: 94 loss: tensor(0.9236)\n",
            "epoch: 95 loss: tensor(0.9231)\n",
            "epoch: 96 loss: tensor(0.9227)\n",
            "epoch: 97 loss: tensor(0.9222)\n",
            "epoch: 98 loss: tensor(0.9218)\n",
            "epoch: 99 loss: tensor(0.9211)\n",
            "epoch: 100 loss: tensor(0.9208)\n",
            "epoch: 101 loss: tensor(0.9203)\n",
            "epoch: 102 loss: tensor(0.9199)\n",
            "epoch: 103 loss: tensor(0.9195)\n",
            "epoch: 104 loss: tensor(0.9192)\n",
            "epoch: 105 loss: tensor(0.9188)\n",
            "epoch: 106 loss: tensor(0.9185)\n",
            "epoch: 107 loss: tensor(0.9182)\n",
            "epoch: 108 loss: tensor(0.9179)\n",
            "epoch: 109 loss: tensor(0.9176)\n",
            "epoch: 110 loss: tensor(0.9173)\n",
            "epoch: 111 loss: tensor(0.9173)\n",
            "epoch: 112 loss: tensor(0.9179)\n",
            "epoch: 113 loss: tensor(0.9175)\n",
            "epoch: 114 loss: tensor(0.9164)\n",
            "epoch: 115 loss: tensor(0.9158)\n",
            "epoch: 116 loss: tensor(0.9155)\n",
            "epoch: 117 loss: tensor(0.9150)\n",
            "epoch: 118 loss: tensor(0.9148)\n",
            "epoch: 119 loss: tensor(0.9147)\n",
            "epoch: 120 loss: tensor(0.9144)\n",
            "epoch: 121 loss: tensor(0.9139)\n",
            "epoch: 122 loss: tensor(0.9137)\n",
            "epoch: 123 loss: tensor(0.9135)\n",
            "epoch: 124 loss: tensor(0.9133)\n",
            "epoch: 125 loss: tensor(0.9132)\n",
            "epoch: 126 loss: tensor(0.9130)\n",
            "epoch: 127 loss: tensor(0.9127)\n",
            "epoch: 128 loss: tensor(0.9125)\n",
            "epoch: 129 loss: tensor(0.9123)\n",
            "epoch: 130 loss: tensor(0.9121)\n",
            "epoch: 131 loss: tensor(0.9117)\n",
            "epoch: 132 loss: tensor(0.9116)\n",
            "epoch: 133 loss: tensor(0.9112)\n",
            "epoch: 134 loss: tensor(0.9110)\n",
            "epoch: 135 loss: tensor(0.9108)\n",
            "epoch: 136 loss: tensor(0.9106)\n",
            "epoch: 137 loss: tensor(0.9103)\n",
            "epoch: 138 loss: tensor(0.9100)\n",
            "epoch: 139 loss: tensor(0.9103)\n",
            "epoch: 140 loss: tensor(0.9099)\n",
            "epoch: 141 loss: tensor(0.9097)\n",
            "epoch: 142 loss: tensor(0.9093)\n",
            "epoch: 143 loss: tensor(0.9091)\n",
            "epoch: 144 loss: tensor(0.9089)\n",
            "epoch: 145 loss: tensor(0.9087)\n",
            "epoch: 146 loss: tensor(0.9087)\n",
            "epoch: 147 loss: tensor(0.9083)\n",
            "epoch: 148 loss: tensor(0.9080)\n",
            "epoch: 149 loss: tensor(0.9079)\n",
            "epoch: 150 loss: tensor(0.9077)\n",
            "epoch: 151 loss: tensor(0.9074)\n",
            "epoch: 152 loss: tensor(0.9072)\n",
            "epoch: 153 loss: tensor(0.9072)\n",
            "epoch: 154 loss: tensor(0.9068)\n",
            "epoch: 155 loss: tensor(0.9064)\n",
            "epoch: 156 loss: tensor(0.9062)\n",
            "epoch: 157 loss: tensor(0.9066)\n",
            "epoch: 158 loss: tensor(0.9059)\n",
            "epoch: 159 loss: tensor(0.9050)\n",
            "epoch: 160 loss: tensor(0.9047)\n",
            "epoch: 161 loss: tensor(0.9043)\n",
            "epoch: 162 loss: tensor(0.9035)\n",
            "epoch: 163 loss: tensor(0.9027)\n",
            "epoch: 164 loss: tensor(0.9024)\n",
            "epoch: 165 loss: tensor(0.9014)\n",
            "epoch: 166 loss: tensor(0.9008)\n",
            "epoch: 167 loss: tensor(0.9001)\n",
            "epoch: 168 loss: tensor(0.8994)\n",
            "epoch: 169 loss: tensor(0.8988)\n",
            "epoch: 170 loss: tensor(0.8971)\n",
            "epoch: 171 loss: tensor(0.8968)\n",
            "epoch: 172 loss: tensor(0.8979)\n",
            "epoch: 173 loss: tensor(0.8959)\n",
            "epoch: 174 loss: tensor(0.8937)\n",
            "epoch: 175 loss: tensor(0.8922)\n",
            "epoch: 176 loss: tensor(0.8908)\n",
            "epoch: 177 loss: tensor(0.8897)\n",
            "epoch: 178 loss: tensor(0.8888)\n",
            "epoch: 179 loss: tensor(0.8875)\n",
            "epoch: 180 loss: tensor(0.8865)\n",
            "epoch: 181 loss: tensor(0.8852)\n",
            "epoch: 182 loss: tensor(0.8846)\n",
            "epoch: 183 loss: tensor(0.8841)\n",
            "epoch: 184 loss: tensor(0.8829)\n",
            "epoch: 185 loss: tensor(0.8819)\n",
            "epoch: 186 loss: tensor(0.8813)\n",
            "epoch: 187 loss: tensor(0.8804)\n",
            "epoch: 188 loss: tensor(0.8795)\n",
            "epoch: 189 loss: tensor(0.8792)\n",
            "epoch: 190 loss: tensor(0.8806)\n",
            "epoch: 191 loss: tensor(0.8804)\n",
            "epoch: 192 loss: tensor(0.8785)\n",
            "epoch: 193 loss: tensor(0.8774)\n",
            "epoch: 194 loss: tensor(0.8767)\n",
            "epoch: 195 loss: tensor(0.8756)\n",
            "epoch: 196 loss: tensor(0.8750)\n",
            "epoch: 197 loss: tensor(0.8745)\n",
            "epoch: 198 loss: tensor(0.8736)\n",
            "epoch: 199 loss: tensor(0.8730)\n",
            "epoch: 200 loss: tensor(0.8726)\n"
          ]
        }
      ],
      "metadata": {}
    },
    {
      "cell_type": "markdown",
      "source": [
        "## Testing the SAE\n"
      ],
      "metadata": {
        "id": "Bak5uc8gd-gX",
        "colab_type": "text"
      }
    },
    {
      "cell_type": "code",
      "execution_count": 11,
      "source": [
        "test_loss = 0\r\n",
        "s = 0.\r\n",
        "for id_user in range(nb_users):\r\n",
        "    input = Variable(training_set[id_user]).unsqueeze(0)\r\n",
        "    target = Variable(test_set[id_user]).unsqueeze(0)\r\n",
        "    if torch.sum(target.data > 0) > 0:\r\n",
        "        output = sae(input)\r\n",
        "        target.require_grad = False\r\n",
        "        output[target == 0] = 0\r\n",
        "        loss = criterion(output, target)\r\n",
        "        mean_corrector = nb_movies / \\\r\n",
        "            float(torch.sum(target.data > 0) + 1e-10)\r\n",
        "        test_loss += np.sqrt(loss.data*mean_corrector)\r\n",
        "        s = s + 1\r\n",
        "print('test loss: ' + str(test_loss/s))\r\n"
      ],
      "outputs": [
        {
          "output_type": "stream",
          "name": "stdout",
          "text": [
            "test loss: tensor(0.9299)\n"
          ]
        }
      ],
      "metadata": {}
    },
    {
      "cell_type": "code",
      "execution_count": null,
      "source": [],
      "outputs": [],
      "metadata": {}
    }
  ]
}